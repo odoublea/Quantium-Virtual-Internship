{
 "cells": [
  {
   "cell_type": "markdown",
   "id": "c3036a48",
   "metadata": {},
   "source": [
    "# Task One: Data preparation and customer analytics\n",
    "\n",
    "## Objective\n",
    "\n",
    "1. Analyze transaction and customer data to identify trends and inconsistencies\n",
    "    - Retail Analytics\n",
    "    - Understand the types of customers who purchase Chips and, \n",
    "    - Their purchasing behaviour within the region.\n",
    "2. Develop Metrics and examine data drivers to gain insights into overall data performance\n",
    "3. Create visualization and prepare findings to formulate a clear recommendation for the client's strategy\n"
   ]
  },
  {
   "cell_type": "code",
   "execution_count": 2,
   "id": "d488f85b",
   "metadata": {},
   "outputs": [],
   "source": [
    "import pandas as pd\n",
    "import matplotlib.pyplot as plt\n",
    "import seaborn as sns\n",
    "import plotly.express as px"
   ]
  },
  {
   "cell_type": "markdown",
   "id": "bd9236ab",
   "metadata": {},
   "source": [
    "Step 1: Exploratory Data Analysis"
   ]
  },
  {
   "cell_type": "code",
   "execution_count": 3,
   "id": "d1aba7e3",
   "metadata": {},
   "outputs": [],
   "source": [
    "# Import Customer and transaction data for wrangling\n",
    "\n",
    "customerData = pd.read_csv(\"./QVI_purchase_behaviour.csv\")\n",
    "transactionData = pd.read_excel(\"./QVI_transaction_data.xlsx\")"
   ]
  },
  {
   "cell_type": "code",
   "execution_count": 4,
   "id": "f7903852",
   "metadata": {},
   "outputs": [
    {
     "name": "stdout",
     "output_type": "stream",
     "text": [
      "Customer Data Head:\n",
      "   LYLTY_CARD_NBR               LIFESTAGE PREMIUM_CUSTOMER\n",
      "0            1000   YOUNG SINGLES/COUPLES          Premium\n",
      "1            1002   YOUNG SINGLES/COUPLES       Mainstream\n",
      "2            1003          YOUNG FAMILIES           Budget\n",
      "3            1004   OLDER SINGLES/COUPLES       Mainstream\n",
      "4            1005  MIDAGE SINGLES/COUPLES       Mainstream\n",
      "\n",
      "Transaction Data Head:\n",
      "    DATE  STORE_NBR  LYLTY_CARD_NBR  TXN_ID  PROD_NBR  \\\n",
      "0  43390          1            1000       1         5   \n",
      "1  43599          1            1307     348        66   \n",
      "2  43605          1            1343     383        61   \n",
      "3  43329          2            2373     974        69   \n",
      "4  43330          2            2426    1038       108   \n",
      "\n",
      "                                  PROD_NAME  PROD_QTY  TOT_SALES  \n",
      "0    Natural Chip        Compny SeaSalt175g         2        6.0  \n",
      "1                  CCs Nacho Cheese    175g         3        6.3  \n",
      "2    Smiths Crinkle Cut  Chips Chicken 170g         2        2.9  \n",
      "3    Smiths Chip Thinly  S/Cream&Onion 175g         5       15.0  \n",
      "4  Kettle Tortilla ChpsHny&Jlpno Chili 150g         3       13.8  \n"
     ]
    }
   ],
   "source": [
    "# Displaying the first few rows of the customer data\n",
    "print(\"Customer Data Head:\")\n",
    "print(customerData.head())\n",
    "\n",
    "# Displaying the first few rows of the transaction data\n",
    "print(\"\\nTransaction Data Head:\")\n",
    "print(transactionData.head())"
   ]
  },
  {
   "cell_type": "code",
   "execution_count": 5,
   "id": "8845243c",
   "metadata": {},
   "outputs": [
    {
     "name": "stdout",
     "output_type": "stream",
     "text": [
      "<class 'pandas.core.frame.DataFrame'>\n",
      "RangeIndex: 264836 entries, 0 to 264835\n",
      "Data columns (total 8 columns):\n",
      " #   Column          Non-Null Count   Dtype  \n",
      "---  ------          --------------   -----  \n",
      " 0   DATE            264836 non-null  int64  \n",
      " 1   STORE_NBR       264836 non-null  int64  \n",
      " 2   LYLTY_CARD_NBR  264836 non-null  int64  \n",
      " 3   TXN_ID          264836 non-null  int64  \n",
      " 4   PROD_NBR        264836 non-null  int64  \n",
      " 5   PROD_NAME       264836 non-null  object \n",
      " 6   PROD_QTY        264836 non-null  int64  \n",
      " 7   TOT_SALES       264836 non-null  float64\n",
      "dtypes: float64(1), int64(6), object(1)\n",
      "memory usage: 16.2+ MB\n"
     ]
    },
    {
     "data": {
      "text/plain": [
       "DATE                 364\n",
       "STORE_NBR            272\n",
       "LYLTY_CARD_NBR     72637\n",
       "TXN_ID            263127\n",
       "PROD_NBR             114\n",
       "PROD_NAME            114\n",
       "PROD_QTY               6\n",
       "TOT_SALES            112\n",
       "dtype: int64"
      ]
     },
     "execution_count": 5,
     "metadata": {},
     "output_type": "execute_result"
    }
   ],
   "source": [
    "## Inspect size of dataset\n",
    "transactionData.shape\n",
    "\n",
    "## Understand the dataset by showing the number of records in each column, type of data, whether any values are missing and how much memory the dataset uses.\n",
    "transactionData.info()\n",
    "\n",
    "## Statistical summary of data: count, mean, standard deviation, minimum and quartiles for each numerical column\n",
    "transactionData.describe()\n",
    "\n",
    "## Inspect list of Columns\n",
    "transactionData.columns.to_list()\n",
    "\n",
    "## Check Null Values\n",
    "transactionData.isnull().sum()\n",
    "\n",
    "## Checking for the duplicate values\n",
    "transactionData.nunique()\n"
   ]
  },
  {
   "cell_type": "code",
   "execution_count": 6,
   "id": "fff0ac41",
   "metadata": {},
   "outputs": [],
   "source": [
    "# \"DATE\" is an Excel serial date. Convert to datetime objects\n",
    "transactionData['DATE'] = pd.to_datetime(transactionData['DATE'], origin='1899-12-30', unit='D')\n",
    "# transactionData['DATE'].head()\n"
   ]
  },
  {
   "cell_type": "markdown",
   "id": "8acbae44",
   "metadata": {},
   "source": [
    "Analysis of Product Names `PROD_NAME`"
   ]
  },
  {
   "cell_type": "code",
   "execution_count": 7,
   "id": "7bf4239c",
   "metadata": {},
   "outputs": [],
   "source": [
    "# Get all word occurrence in products name and add them to a dataframe # Split all unique product names into words\n",
    "productWords = pd.DataFrame(\n",
    "    {'words': \"\".join(transactionData['PROD_NAME'].unique()).split()}\n",
    "    )\n",
    "\n",
    "# Remove all words with mixed chars and Keep only alphabetic words (remove anything with numbers or symbols)\n",
    "cleanWords = productWords[productWords['words'].str.fullmatch(r'[a-zA-Z]+')]\n"
   ]
  },
  {
   "cell_type": "code",
   "execution_count": 8,
   "id": "4982952f",
   "metadata": {},
   "outputs": [
    {
     "data": {
      "text/html": [
       "<div>\n",
       "<style scoped>\n",
       "    .dataframe tbody tr th:only-of-type {\n",
       "        vertical-align: middle;\n",
       "    }\n",
       "\n",
       "    .dataframe tbody tr th {\n",
       "        vertical-align: top;\n",
       "    }\n",
       "\n",
       "    .dataframe thead th {\n",
       "        text-align: right;\n",
       "    }\n",
       "</style>\n",
       "<table border=\"1\" class=\"dataframe\">\n",
       "  <thead>\n",
       "    <tr style=\"text-align: right;\">\n",
       "      <th></th>\n",
       "      <th>DATE</th>\n",
       "      <th>STORE_NBR</th>\n",
       "      <th>LYLTY_CARD_NBR</th>\n",
       "      <th>TXN_ID</th>\n",
       "      <th>PROD_NBR</th>\n",
       "      <th>PROD_QTY</th>\n",
       "      <th>TOT_SALES</th>\n",
       "    </tr>\n",
       "  </thead>\n",
       "  <tbody>\n",
       "    <tr>\n",
       "      <th>count</th>\n",
       "      <td>246742</td>\n",
       "      <td>246742.000000</td>\n",
       "      <td>2.467420e+05</td>\n",
       "      <td>2.467420e+05</td>\n",
       "      <td>246742.000000</td>\n",
       "      <td>246742.000000</td>\n",
       "      <td>246742.000000</td>\n",
       "    </tr>\n",
       "    <tr>\n",
       "      <th>mean</th>\n",
       "      <td>2018-12-30 01:19:01.211467520</td>\n",
       "      <td>135.051098</td>\n",
       "      <td>1.355310e+05</td>\n",
       "      <td>1.351311e+05</td>\n",
       "      <td>56.351789</td>\n",
       "      <td>1.908062</td>\n",
       "      <td>7.321322</td>\n",
       "    </tr>\n",
       "    <tr>\n",
       "      <th>min</th>\n",
       "      <td>2018-07-01 00:00:00</td>\n",
       "      <td>1.000000</td>\n",
       "      <td>1.000000e+03</td>\n",
       "      <td>1.000000e+00</td>\n",
       "      <td>1.000000</td>\n",
       "      <td>1.000000</td>\n",
       "      <td>1.700000</td>\n",
       "    </tr>\n",
       "    <tr>\n",
       "      <th>25%</th>\n",
       "      <td>2018-09-30 00:00:00</td>\n",
       "      <td>70.000000</td>\n",
       "      <td>7.001500e+04</td>\n",
       "      <td>6.756925e+04</td>\n",
       "      <td>26.000000</td>\n",
       "      <td>2.000000</td>\n",
       "      <td>5.800000</td>\n",
       "    </tr>\n",
       "    <tr>\n",
       "      <th>50%</th>\n",
       "      <td>2018-12-30 00:00:00</td>\n",
       "      <td>130.000000</td>\n",
       "      <td>1.303670e+05</td>\n",
       "      <td>1.351830e+05</td>\n",
       "      <td>53.000000</td>\n",
       "      <td>2.000000</td>\n",
       "      <td>7.400000</td>\n",
       "    </tr>\n",
       "    <tr>\n",
       "      <th>75%</th>\n",
       "      <td>2019-03-31 00:00:00</td>\n",
       "      <td>203.000000</td>\n",
       "      <td>2.030840e+05</td>\n",
       "      <td>2.026538e+05</td>\n",
       "      <td>87.000000</td>\n",
       "      <td>2.000000</td>\n",
       "      <td>8.800000</td>\n",
       "    </tr>\n",
       "    <tr>\n",
       "      <th>max</th>\n",
       "      <td>2019-06-30 00:00:00</td>\n",
       "      <td>272.000000</td>\n",
       "      <td>2.373711e+06</td>\n",
       "      <td>2.415841e+06</td>\n",
       "      <td>114.000000</td>\n",
       "      <td>200.000000</td>\n",
       "      <td>650.000000</td>\n",
       "    </tr>\n",
       "    <tr>\n",
       "      <th>std</th>\n",
       "      <td>NaN</td>\n",
       "      <td>76.787096</td>\n",
       "      <td>8.071528e+04</td>\n",
       "      <td>7.814772e+04</td>\n",
       "      <td>33.695428</td>\n",
       "      <td>0.659831</td>\n",
       "      <td>3.077828</td>\n",
       "    </tr>\n",
       "  </tbody>\n",
       "</table>\n",
       "</div>"
      ],
      "text/plain": [
       "                                DATE      STORE_NBR  LYLTY_CARD_NBR  \\\n",
       "count                         246742  246742.000000    2.467420e+05   \n",
       "mean   2018-12-30 01:19:01.211467520     135.051098    1.355310e+05   \n",
       "min              2018-07-01 00:00:00       1.000000    1.000000e+03   \n",
       "25%              2018-09-30 00:00:00      70.000000    7.001500e+04   \n",
       "50%              2018-12-30 00:00:00     130.000000    1.303670e+05   \n",
       "75%              2019-03-31 00:00:00     203.000000    2.030840e+05   \n",
       "max              2019-06-30 00:00:00     272.000000    2.373711e+06   \n",
       "std                              NaN      76.787096    8.071528e+04   \n",
       "\n",
       "             TXN_ID       PROD_NBR       PROD_QTY      TOT_SALES  \n",
       "count  2.467420e+05  246742.000000  246742.000000  246742.000000  \n",
       "mean   1.351311e+05      56.351789       1.908062       7.321322  \n",
       "min    1.000000e+00       1.000000       1.000000       1.700000  \n",
       "25%    6.756925e+04      26.000000       2.000000       5.800000  \n",
       "50%    1.351830e+05      53.000000       2.000000       7.400000  \n",
       "75%    2.026538e+05      87.000000       2.000000       8.800000  \n",
       "max    2.415841e+06     114.000000     200.000000     650.000000  \n",
       "std    7.814772e+04      33.695428       0.659831       3.077828  "
      ]
     },
     "execution_count": 8,
     "metadata": {},
     "output_type": "execute_result"
    }
   ],
   "source": [
    "# cleanWords.value_counts()\n",
    "# Create a boolean column 'SALSA' that checks if 'salsa' is in the product name\n",
    "transactionData['SALSA'] = transactionData['PROD_NAME'].str.lower().str.contains(\"salsa\")\n",
    "\n",
    "# Filter out rows where 'SALSA' is True and drop the 'SALSA' column\n",
    "salsa_filter = transactionData['SALSA'] == False\n",
    "\n",
    "transactionData = transactionData[salsa_filter]\n",
    "# transactionData = transactionData[transactionData['SALSA'] == False].drop(columns=['SALSA'], inplace=True)\n",
    "\n",
    "transactionData.drop(columns=['SALSA'], inplace=True)\n",
    "transactionData.describe()"
   ]
  },
  {
   "cell_type": "code",
   "execution_count": 9,
   "id": "bc572ce4",
   "metadata": {},
   "outputs": [
    {
     "data": {
      "text/html": [
       "<div>\n",
       "<style scoped>\n",
       "    .dataframe tbody tr th:only-of-type {\n",
       "        vertical-align: middle;\n",
       "    }\n",
       "\n",
       "    .dataframe tbody tr th {\n",
       "        vertical-align: top;\n",
       "    }\n",
       "\n",
       "    .dataframe thead th {\n",
       "        text-align: right;\n",
       "    }\n",
       "</style>\n",
       "<table border=\"1\" class=\"dataframe\">\n",
       "  <thead>\n",
       "    <tr style=\"text-align: right;\">\n",
       "      <th></th>\n",
       "      <th>DATE</th>\n",
       "      <th>STORE_NBR</th>\n",
       "      <th>LYLTY_CARD_NBR</th>\n",
       "      <th>TXN_ID</th>\n",
       "      <th>PROD_NBR</th>\n",
       "      <th>PROD_QTY</th>\n",
       "      <th>TOT_SALES</th>\n",
       "    </tr>\n",
       "  </thead>\n",
       "  <tbody>\n",
       "    <tr>\n",
       "      <th>count</th>\n",
       "      <td>246740</td>\n",
       "      <td>246740.000000</td>\n",
       "      <td>2.467400e+05</td>\n",
       "      <td>2.467400e+05</td>\n",
       "      <td>246740.000000</td>\n",
       "      <td>246740.000000</td>\n",
       "      <td>246740.000000</td>\n",
       "    </tr>\n",
       "    <tr>\n",
       "      <th>mean</th>\n",
       "      <td>2018-12-30 01:18:58.448569344</td>\n",
       "      <td>135.050361</td>\n",
       "      <td>1.355303e+05</td>\n",
       "      <td>1.351304e+05</td>\n",
       "      <td>56.352213</td>\n",
       "      <td>1.906456</td>\n",
       "      <td>7.316113</td>\n",
       "    </tr>\n",
       "    <tr>\n",
       "      <th>min</th>\n",
       "      <td>2018-07-01 00:00:00</td>\n",
       "      <td>1.000000</td>\n",
       "      <td>1.000000e+03</td>\n",
       "      <td>1.000000e+00</td>\n",
       "      <td>1.000000</td>\n",
       "      <td>1.000000</td>\n",
       "      <td>1.700000</td>\n",
       "    </tr>\n",
       "    <tr>\n",
       "      <th>25%</th>\n",
       "      <td>2018-09-30 00:00:00</td>\n",
       "      <td>70.000000</td>\n",
       "      <td>7.001500e+04</td>\n",
       "      <td>6.756875e+04</td>\n",
       "      <td>26.000000</td>\n",
       "      <td>2.000000</td>\n",
       "      <td>5.800000</td>\n",
       "    </tr>\n",
       "    <tr>\n",
       "      <th>50%</th>\n",
       "      <td>2018-12-30 00:00:00</td>\n",
       "      <td>130.000000</td>\n",
       "      <td>1.303670e+05</td>\n",
       "      <td>1.351815e+05</td>\n",
       "      <td>53.000000</td>\n",
       "      <td>2.000000</td>\n",
       "      <td>7.400000</td>\n",
       "    </tr>\n",
       "    <tr>\n",
       "      <th>75%</th>\n",
       "      <td>2019-03-31 00:00:00</td>\n",
       "      <td>203.000000</td>\n",
       "      <td>2.030832e+05</td>\n",
       "      <td>2.026522e+05</td>\n",
       "      <td>87.000000</td>\n",
       "      <td>2.000000</td>\n",
       "      <td>8.800000</td>\n",
       "    </tr>\n",
       "    <tr>\n",
       "      <th>max</th>\n",
       "      <td>2019-06-30 00:00:00</td>\n",
       "      <td>272.000000</td>\n",
       "      <td>2.373711e+06</td>\n",
       "      <td>2.415841e+06</td>\n",
       "      <td>114.000000</td>\n",
       "      <td>5.000000</td>\n",
       "      <td>29.500000</td>\n",
       "    </tr>\n",
       "    <tr>\n",
       "      <th>std</th>\n",
       "      <td>NaN</td>\n",
       "      <td>76.786971</td>\n",
       "      <td>8.071520e+04</td>\n",
       "      <td>7.814760e+04</td>\n",
       "      <td>33.695235</td>\n",
       "      <td>0.342499</td>\n",
       "      <td>2.474897</td>\n",
       "    </tr>\n",
       "  </tbody>\n",
       "</table>\n",
       "</div>"
      ],
      "text/plain": [
       "                                DATE      STORE_NBR  LYLTY_CARD_NBR  \\\n",
       "count                         246740  246740.000000    2.467400e+05   \n",
       "mean   2018-12-30 01:18:58.448569344     135.050361    1.355303e+05   \n",
       "min              2018-07-01 00:00:00       1.000000    1.000000e+03   \n",
       "25%              2018-09-30 00:00:00      70.000000    7.001500e+04   \n",
       "50%              2018-12-30 00:00:00     130.000000    1.303670e+05   \n",
       "75%              2019-03-31 00:00:00     203.000000    2.030832e+05   \n",
       "max              2019-06-30 00:00:00     272.000000    2.373711e+06   \n",
       "std                              NaN      76.786971    8.071520e+04   \n",
       "\n",
       "             TXN_ID       PROD_NBR       PROD_QTY      TOT_SALES  \n",
       "count  2.467400e+05  246740.000000  246740.000000  246740.000000  \n",
       "mean   1.351304e+05      56.352213       1.906456       7.316113  \n",
       "min    1.000000e+00       1.000000       1.000000       1.700000  \n",
       "25%    6.756875e+04      26.000000       2.000000       5.800000  \n",
       "50%    1.351815e+05      53.000000       2.000000       7.400000  \n",
       "75%    2.026522e+05      87.000000       2.000000       8.800000  \n",
       "max    2.415841e+06     114.000000       5.000000      29.500000  \n",
       "std    7.814760e+04      33.695235       0.342499       2.474897  "
      ]
     },
     "execution_count": 9,
     "metadata": {},
     "output_type": "execute_result"
    }
   ],
   "source": [
    "# Identify transactions where product quantity is 200 (outlier)\n",
    "outlier_transactions = transactionData['PROD_QTY'] == 200\n",
    "# transactionData[outlier_transactions]['LYLTY_CARD_NBR'].iloc[0]\n",
    "outl_cust_id = transactionData[outlier_transactions]['LYLTY_CARD_NBR'].iloc[0]\n",
    "\n",
    "outl_filter = transactionData['LYLTY_CARD_NBR'] != outl_cust_id\n",
    "\n",
    "transactionData = transactionData[outl_filter]\n",
    "\n",
    "transactionData.describe()"
   ]
  },
  {
   "cell_type": "code",
   "execution_count": 10,
   "id": "f53fe96e",
   "metadata": {},
   "outputs": [],
   "source": [
    "transactions_by_date = transactionData.groupby('DATE').size().reset_index(name='N')\n",
    "transactions_by_date\n",
    "allDates = pd.DataFrame(pd.date_range(start='2018-07-01', end='2019-06-30'), columns=['DATE'])\n",
    "allDates\n",
    "# print(f\"transactions_by_day: {transactions_by_day['DATE'].dtypes}\"\n",
    "# transactionData['DATE'] = pd.to_datetime(transactionData['DATE'])\n",
    "# print(f\"transaction: {transactionData['DATE'].dtypes}\")\n",
    "transactions_by_day = allDates.merge(transactions_by_date, on='DATE', how=\"left\")\n",
    "\n",
    "# transactionData['DATE'].value_counts()\n",
    "# transactionData.describe()"
   ]
  },
  {
   "cell_type": "code",
   "execution_count": 11,
   "id": "e645b21f",
   "metadata": {},
   "outputs": [
    {
     "data": {
      "image/png": "[encoded data removed]",
      "text/plain": [
       "<Figure size 1200x600 with 1 Axes>"
      ]
     },
     "metadata": {},
     "output_type": "display_data"
    }
   ],
   "source": [
    "import matplotlib.dates as mdates\n",
    "\n",
    "plt.figure(figsize=(12, 6))\n",
    "plt.plot(transactions_by_day['DATE'], transactions_by_day['N'])\n",
    "\n",
    "plt.xlabel(\"Day\")\n",
    "plt.ylabel(\"Number of transactions\")\n",
    "plt.title(\"Transactions over time\")\n",
    "\n",
    "plt.gca().xaxis.set_major_locator(mdates.MonthLocator())\n",
    "plt.gca().xaxis.set_major_formatter(mdates.DateFormatter('%b %Y'))\n",
    "plt.xticks(rotation=90);\n",
    "\n",
    "plt.savefig('./Quantium/Transactions over time.png')\n",
    "\n"
   ]
  },
  {
   "cell_type": "code",
   "execution_count": 12,
   "id": "e44cbf18",
   "metadata": {},
   "outputs": [
    {
     "data": {
      "image/png": "[encoded data removed]",
      "text/plain": [
       "<Figure size 1200x600 with 1 Axes>"
      ]
     },
     "metadata": {},
     "output_type": "display_data"
    }
   ],
   "source": [
    "# Zoom in on December\n",
    "transactions_in_dec = transactions_by_day[transactions_by_day[\"DATE\"].dt.month == 12]\n",
    "\n",
    "plt.figure(figsize=(12, 6))\n",
    "plt.plot(transactions_in_dec['DATE'], transactions_in_dec['N'])\n",
    "\n",
    "plt.grid(axis='x', linestyle='--')\n",
    "\n",
    "plt.xlabel(\"Day\")\n",
    "plt.ylabel(\"Number of transactions\")\n",
    "plt.title(\"Transactions over time in December\")\n",
    "\n",
    "\n",
    "plt.gca().xaxis.set_major_locator(mdates.DayLocator())\n",
    "plt.gca().xaxis.set_major_formatter(mdates.DateFormatter('%d'))\n",
    "plt.xticks(rotation=90);\n",
    "\n",
    "plt.savefig('./Quantium/Transactions over time in December.png')"
   ]
  },
  {
   "cell_type": "markdown",
   "id": "e20cf57c",
   "metadata": {},
   "source": [
    "We can see that the increase in data occurs in the lead-up to Christmas and that there are zero sales on Christmas day itself. This is due to shops being closed on Christmas day.\n"
   ]
  },
  {
   "cell_type": "code",
   "execution_count": 13,
   "id": "3b80cb90",
   "metadata": {},
   "outputs": [
    {
     "data": {
      "text/plain": [
       "0     175\n",
       "1     175\n",
       "2     170\n",
       "3     175\n",
       "4     150\n",
       "6     330\n",
       "7     210\n",
       "8     150\n",
       "9     210\n",
       "10    330\n",
       "Name: PACK_SIZE, dtype: int64"
      ]
     },
     "execution_count": 13,
     "metadata": {},
     "output_type": "execute_result"
    }
   ],
   "source": [
    "transactionData['PACK_SIZE'] = transactionData['PROD_NAME'].str.extract(r'(\\d+)', expand=True).astype(int)\n",
    "# transactionData['PACK_SIZE'].describe()\n",
    "transactionData['PACK_SIZE'].head(10)"
   ]
  },
  {
   "cell_type": "code",
   "execution_count": 14,
   "id": "3686c0dd",
   "metadata": {},
   "outputs": [
    {
     "data": {
      "text/plain": [
       "PACK_SIZE\n",
       "175    66390\n",
       "150    40203\n",
       "134    25102\n",
       "110    22387\n",
       "170    19983\n",
       "165    15297\n",
       "330    12540\n",
       "380     6416\n",
       "270     6285\n",
       "210     6272\n",
       "200     4473\n",
       "135     3257\n",
       "250     3169\n",
       "90      3008\n",
       "190     2995\n",
       "160     2970\n",
       "220     1564\n",
       "70      1507\n",
       "180     1468\n",
       "125     1454\n",
       "Name: count, dtype: int64"
      ]
     },
     "execution_count": 14,
     "metadata": {},
     "output_type": "execute_result"
    }
   ],
   "source": [
    "transactionData['PACK_SIZE'].value_counts()"
   ]
  },
  {
   "cell_type": "code",
   "execution_count": 15,
   "id": "2474fd51",
   "metadata": {},
   "outputs": [
    {
     "data": {
      "image/png": "[encoded data removed]",
      "text/plain": [
       "<Figure size 1200x600 with 1 Axes>"
      ]
     },
     "metadata": {},
     "output_type": "display_data"
    }
   ],
   "source": [
    "\n",
    "pack_counts = transactionData['PACK_SIZE'].sort_values().value_counts(sort=False)\n",
    "max_index = pack_counts.idxmax()\n",
    "\n",
    "# Set colors: use a distinct color for the tallest bar\n",
    "colors = ['#1f77b4' if idx != max_index else \"#1f76b4cb\" for idx in pack_counts.index]\n",
    "\n",
    "plt.figure(figsize=(12, 6))\n",
    "pack_counts.plot(\n",
    "    kind=\"bar\",\n",
    "    color=colors,\n",
    "    ylabel=\"Number of transactions\",\n",
    "    xlabel=\"Pack Size\",\n",
    "    title=\"Transactions per Pack size\"\n",
    ")\n",
    "\n",
    "plt.savefig('./Quantium/Transactions per Pack size.png')\n",
    "plt.show();\n",
    "\n"
   ]
  },
  {
   "cell_type": "code",
   "execution_count": 16,
   "id": "ef074b26",
   "metadata": {},
   "outputs": [
    {
     "data": {
      "text/plain": [
       "BRAND_NAME\n",
       "Kettle        41288\n",
       "Smiths        27390\n",
       "Doritos       25224\n",
       "Pringles      25102\n",
       "RRD           16321\n",
       "Infuzions     14201\n",
       "Thins         14075\n",
       "Woolworths    11836\n",
       "Cobs           9693\n",
       "Tostitos       9471\n",
       "Twisties       9454\n",
       "GrnWaves       7740\n",
       "Natural        7469\n",
       "Tyrrells       6442\n",
       "Cheezels       4603\n",
       "CCs            4551\n",
       "Sunbites       3008\n",
       "Smith          2963\n",
       "Cheetos        2927\n",
       "Burger         1564\n",
       "French         1418\n",
       "Name: count, dtype: int64"
      ]
     },
     "execution_count": 16,
     "metadata": {},
     "output_type": "execute_result"
    }
   ],
   "source": [
    "\n",
    "transactionData['BRAND_NAME'] = transactionData['PROD_NAME'].str.split(\n",
    "    \" \", expand=True)[0]\n",
    "# # # transactionData.head()\n",
    "\n",
    "# # # Clean Brand names\n",
    "brand_mapping = {\n",
    "    r\"\\bDorito\\b\": \"Doritos\",\n",
    "    \"RED\": \"RRD\",\n",
    "    \"Red\": \"RRD\",\n",
    "    \"INFZNS\": \"Infuzions\",\n",
    "    \"Infzns\": \"Infuzions\",\n",
    "    \"SMITH\": \"Smiths\",\n",
    "    \"GRNWAVS\": \"GrnWaves\",\n",
    "    \"GrnWves\": \"GrnWaves\",\n",
    "    \"Grain\": \"GrnWaves\",\n",
    "    \"NCC\": \"Natural\",\n",
    "    \"NATURAL\": \"Natural\",\n",
    "    \"WW\": \"Woolworths\",\n",
    "    \"SNBTS\": \"Sunbites\",\n",
    "    \"Snbts\": \"Sunbites\",\n",
    "    \"SUNBITES\": \"Sunbites\"\n",
    "}\n",
    "\n",
    "\n",
    "transactionData['BRAND_NAME'] = transactionData['BRAND_NAME'].replace(\n",
    "    brand_mapping, regex=True)\n",
    "transactionData['BRAND_NAME'].value_counts()"
   ]
  },
  {
   "cell_type": "markdown",
   "id": "408694cb",
   "metadata": {},
   "source": [
    "Customer Exploratory Data"
   ]
  },
  {
   "cell_type": "code",
   "execution_count": 17,
   "id": "ecfcdf53",
   "metadata": {},
   "outputs": [
    {
     "data": {
      "text/html": [
       "<div>\n",
       "<style scoped>\n",
       "    .dataframe tbody tr th:only-of-type {\n",
       "        vertical-align: middle;\n",
       "    }\n",
       "\n",
       "    .dataframe tbody tr th {\n",
       "        vertical-align: top;\n",
       "    }\n",
       "\n",
       "    .dataframe thead th {\n",
       "        text-align: right;\n",
       "    }\n",
       "</style>\n",
       "<table border=\"1\" class=\"dataframe\">\n",
       "  <thead>\n",
       "    <tr style=\"text-align: right;\">\n",
       "      <th></th>\n",
       "      <th>DATE</th>\n",
       "      <th>STORE_NBR</th>\n",
       "      <th>LYLTY_CARD_NBR</th>\n",
       "      <th>TXN_ID</th>\n",
       "      <th>PROD_NBR</th>\n",
       "      <th>PROD_NAME</th>\n",
       "      <th>PROD_QTY</th>\n",
       "      <th>TOT_SALES</th>\n",
       "      <th>PACK_SIZE</th>\n",
       "      <th>BRAND_NAME</th>\n",
       "      <th>LIFESTAGE</th>\n",
       "      <th>PREMIUM_CUSTOMER</th>\n",
       "    </tr>\n",
       "  </thead>\n",
       "  <tbody>\n",
       "    <tr>\n",
       "      <th>0</th>\n",
       "      <td>2018-10-17</td>\n",
       "      <td>1</td>\n",
       "      <td>1000</td>\n",
       "      <td>1</td>\n",
       "      <td>5</td>\n",
       "      <td>Natural Chip        Compny SeaSalt175g</td>\n",
       "      <td>2</td>\n",
       "      <td>6.0</td>\n",
       "      <td>175</td>\n",
       "      <td>Natural</td>\n",
       "      <td>YOUNG SINGLES/COUPLES</td>\n",
       "      <td>Premium</td>\n",
       "    </tr>\n",
       "    <tr>\n",
       "      <th>1</th>\n",
       "      <td>2019-05-14</td>\n",
       "      <td>1</td>\n",
       "      <td>1307</td>\n",
       "      <td>348</td>\n",
       "      <td>66</td>\n",
       "      <td>CCs Nacho Cheese    175g</td>\n",
       "      <td>3</td>\n",
       "      <td>6.3</td>\n",
       "      <td>175</td>\n",
       "      <td>CCs</td>\n",
       "      <td>MIDAGE SINGLES/COUPLES</td>\n",
       "      <td>Budget</td>\n",
       "    </tr>\n",
       "    <tr>\n",
       "      <th>2</th>\n",
       "      <td>2019-05-20</td>\n",
       "      <td>1</td>\n",
       "      <td>1343</td>\n",
       "      <td>383</td>\n",
       "      <td>61</td>\n",
       "      <td>Smiths Crinkle Cut  Chips Chicken 170g</td>\n",
       "      <td>2</td>\n",
       "      <td>2.9</td>\n",
       "      <td>170</td>\n",
       "      <td>Smiths</td>\n",
       "      <td>MIDAGE SINGLES/COUPLES</td>\n",
       "      <td>Budget</td>\n",
       "    </tr>\n",
       "    <tr>\n",
       "      <th>3</th>\n",
       "      <td>2018-08-17</td>\n",
       "      <td>2</td>\n",
       "      <td>2373</td>\n",
       "      <td>974</td>\n",
       "      <td>69</td>\n",
       "      <td>Smiths Chip Thinly  S/Cream&amp;Onion 175g</td>\n",
       "      <td>5</td>\n",
       "      <td>15.0</td>\n",
       "      <td>175</td>\n",
       "      <td>Smiths</td>\n",
       "      <td>MIDAGE SINGLES/COUPLES</td>\n",
       "      <td>Budget</td>\n",
       "    </tr>\n",
       "    <tr>\n",
       "      <th>4</th>\n",
       "      <td>2018-08-18</td>\n",
       "      <td>2</td>\n",
       "      <td>2426</td>\n",
       "      <td>1038</td>\n",
       "      <td>108</td>\n",
       "      <td>Kettle Tortilla ChpsHny&amp;Jlpno Chili 150g</td>\n",
       "      <td>3</td>\n",
       "      <td>13.8</td>\n",
       "      <td>150</td>\n",
       "      <td>Kettle</td>\n",
       "      <td>MIDAGE SINGLES/COUPLES</td>\n",
       "      <td>Budget</td>\n",
       "    </tr>\n",
       "  </tbody>\n",
       "</table>\n",
       "</div>"
      ],
      "text/plain": [
       "        DATE  STORE_NBR  LYLTY_CARD_NBR  TXN_ID  PROD_NBR  \\\n",
       "0 2018-10-17          1            1000       1         5   \n",
       "1 2019-05-14          1            1307     348        66   \n",
       "2 2019-05-20          1            1343     383        61   \n",
       "3 2018-08-17          2            2373     974        69   \n",
       "4 2018-08-18          2            2426    1038       108   \n",
       "\n",
       "                                  PROD_NAME  PROD_QTY  TOT_SALES  PACK_SIZE  \\\n",
       "0    Natural Chip        Compny SeaSalt175g         2        6.0        175   \n",
       "1                  CCs Nacho Cheese    175g         3        6.3        175   \n",
       "2    Smiths Crinkle Cut  Chips Chicken 170g         2        2.9        170   \n",
       "3    Smiths Chip Thinly  S/Cream&Onion 175g         5       15.0        175   \n",
       "4  Kettle Tortilla ChpsHny&Jlpno Chili 150g         3       13.8        150   \n",
       "\n",
       "  BRAND_NAME               LIFESTAGE PREMIUM_CUSTOMER  \n",
       "0    Natural   YOUNG SINGLES/COUPLES          Premium  \n",
       "1        CCs  MIDAGE SINGLES/COUPLES           Budget  \n",
       "2     Smiths  MIDAGE SINGLES/COUPLES           Budget  \n",
       "3     Smiths  MIDAGE SINGLES/COUPLES           Budget  \n",
       "4     Kettle  MIDAGE SINGLES/COUPLES           Budget  "
      ]
     },
     "execution_count": 17,
     "metadata": {},
     "output_type": "execute_result"
    }
   ],
   "source": [
    "data = transactionData.merge(customerData, on='LYLTY_CARD_NBR')\n",
    "data.head()"
   ]
  },
  {
   "cell_type": "code",
   "execution_count": 18,
   "id": "028058f3",
   "metadata": {},
   "outputs": [
    {
     "name": "stdout",
     "output_type": "stream",
     "text": [
      "<class 'pandas.core.frame.DataFrame'>\n",
      "RangeIndex: 246740 entries, 0 to 246739\n",
      "Data columns (total 12 columns):\n",
      " #   Column            Non-Null Count   Dtype         \n",
      "---  ------            --------------   -----         \n",
      " 0   DATE              246740 non-null  datetime64[ns]\n",
      " 1   STORE_NBR         246740 non-null  int64         \n",
      " 2   LYLTY_CARD_NBR    246740 non-null  int64         \n",
      " 3   TXN_ID            246740 non-null  int64         \n",
      " 4   PROD_NBR          246740 non-null  int64         \n",
      " 5   PROD_NAME         246740 non-null  object        \n",
      " 6   PROD_QTY          246740 non-null  int64         \n",
      " 7   TOT_SALES         246740 non-null  float64       \n",
      " 8   PACK_SIZE         246740 non-null  int64         \n",
      " 9   BRAND_NAME        246740 non-null  object        \n",
      " 10  LIFESTAGE         246740 non-null  object        \n",
      " 11  PREMIUM_CUSTOMER  246740 non-null  object        \n",
      "dtypes: datetime64[ns](1), float64(1), int64(6), object(4)\n",
      "memory usage: 22.6+ MB\n"
     ]
    }
   ],
   "source": [
    "# Check if the new data contains a null\n",
    "data.info()\n",
    "data.isnull().sum()\n",
    "\n",
    "data.to_csv(\"./Quantium/QVI_data.csv\", index=False)"
   ]
  },
  {
   "cell_type": "markdown",
   "id": "a8e70c49",
   "metadata": {},
   "source": [
    "## Data analysis on customer segments \n",
    "\n",
    "- Who spends the most on chips (total data), describing customers by lifestage and how premium their general purchasing behaviour is\n",
    "- How many customers are in each segment\n",
    "- How many chips are bought per customer by segment\n",
    "- What's the average chip price by customer segment\n",
    "- The customer’s total spend over the period and total spend for each transaction to understand what proportion of their grocery spend is on chips\n",
    "- Proportion of customers in each customer segment overall to compare against the mix of customers who purchase chips"
   ]
  },
  {
   "cell_type": "code",
   "execution_count": 19,
   "id": "38e265ad",
   "metadata": {},
   "outputs": [
    {
     "data": {
      "text/plain": [
       "PREMIUM_CUSTOMER\n",
       "Mainstream    29245\n",
       "Budget        24470\n",
       "Premium       18922\n",
       "Name: count, dtype: int64"
      ]
     },
     "execution_count": 19,
     "metadata": {},
     "output_type": "execute_result"
    }
   ],
   "source": [
    "customerData['PREMIUM_CUSTOMER'].value_counts()"
   ]
  },
  {
   "cell_type": "code",
   "execution_count": 20,
   "id": "e6a5603d",
   "metadata": {},
   "outputs": [
    {
     "data": {
      "image/png": "[encoded data removed]",
      "text/plain": [
       "<Figure size 1200x600 with 1 Axes>"
      ]
     },
     "metadata": {},
     "output_type": "display_data"
    }
   ],
   "source": [
    "### Total data by PREMIUM_CUSTOMER transactions\n",
    "plt.figure(figsize=(12, 6))\n",
    "\n",
    "plt.hist(data['PREMIUM_CUSTOMER'], bins=7)\n",
    "\n",
    "plt.xlabel(\"Customer Type\")\n",
    "plt.ylabel(\"Number of transactions\")\n",
    "plt.title(\"Transactions per Customer Segment\");\n",
    "\n",
    "plt.savefig('./Quantium/Transactions per Customer Segment.png')\n",
    "\n"
   ]
  },
  {
   "cell_type": "markdown",
   "id": "863a7a85",
   "metadata": {},
   "source": [
    "### Who spends the most on chips (total sales), describing customers by lifestage and how premium their purchasing behaviour is?"
   ]
  },
  {
   "cell_type": "code",
   "execution_count": 21,
   "id": "f1e8764f",
   "metadata": {},
   "outputs": [
    {
     "data": {
      "text/html": [
       "<div>\n",
       "<style scoped>\n",
       "    .dataframe tbody tr th:only-of-type {\n",
       "        vertical-align: middle;\n",
       "    }\n",
       "\n",
       "    .dataframe tbody tr th {\n",
       "        vertical-align: top;\n",
       "    }\n",
       "\n",
       "    .dataframe thead th {\n",
       "        text-align: right;\n",
       "    }\n",
       "</style>\n",
       "<table border=\"1\" class=\"dataframe\">\n",
       "  <thead>\n",
       "    <tr style=\"text-align: right;\">\n",
       "      <th></th>\n",
       "      <th>LIFESTAGE</th>\n",
       "      <th>TOTAL_SALES</th>\n",
       "    </tr>\n",
       "  </thead>\n",
       "  <tbody>\n",
       "    <tr>\n",
       "      <th>3</th>\n",
       "      <td>OLDER SINGLES/COUPLES</td>\n",
       "      <td>376019.65</td>\n",
       "    </tr>\n",
       "    <tr>\n",
       "      <th>4</th>\n",
       "      <td>RETIREES</td>\n",
       "      <td>342381.90</td>\n",
       "    </tr>\n",
       "    <tr>\n",
       "      <th>2</th>\n",
       "      <td>OLDER FAMILIES</td>\n",
       "      <td>328519.90</td>\n",
       "    </tr>\n",
       "    <tr>\n",
       "      <th>5</th>\n",
       "      <td>YOUNG FAMILIES</td>\n",
       "      <td>294627.90</td>\n",
       "    </tr>\n",
       "    <tr>\n",
       "      <th>6</th>\n",
       "      <td>YOUNG SINGLES/COUPLES</td>\n",
       "      <td>243756.60</td>\n",
       "    </tr>\n",
       "    <tr>\n",
       "      <th>0</th>\n",
       "      <td>MIDAGE SINGLES/COUPLES</td>\n",
       "      <td>172523.80</td>\n",
       "    </tr>\n",
       "    <tr>\n",
       "      <th>1</th>\n",
       "      <td>NEW FAMILIES</td>\n",
       "      <td>47347.95</td>\n",
       "    </tr>\n",
       "  </tbody>\n",
       "</table>\n",
       "</div>"
      ],
      "text/plain": [
       "                LIFESTAGE  TOTAL_SALES\n",
       "3   OLDER SINGLES/COUPLES    376019.65\n",
       "4                RETIREES    342381.90\n",
       "2          OLDER FAMILIES    328519.90\n",
       "5          YOUNG FAMILIES    294627.90\n",
       "6   YOUNG SINGLES/COUPLES    243756.60\n",
       "0  MIDAGE SINGLES/COUPLES    172523.80\n",
       "1            NEW FAMILIES     47347.95"
      ]
     },
     "execution_count": 21,
     "metadata": {},
     "output_type": "execute_result"
    }
   ],
   "source": [
    "sales_by_lifestage = (\n",
    "    data.groupby(['LIFESTAGE'], observed=True)['TOT_SALES']\n",
    "    .sum()\n",
    "    .reset_index(name='TOTAL_SALES')\n",
    "    .sort_values(by='TOTAL_SALES', ascending=False)\n",
    ")\n",
    "sales_by_lifestage"
   ]
  },
  {
   "cell_type": "code",
   "execution_count": 22,
   "id": "e830dc7a",
   "metadata": {},
   "outputs": [
    {
     "data": {
      "image/png": "[encoded data removed]",
      "text/plain": [
       "<Figure size 1200x600 with 1 Axes>"
      ]
     },
     "metadata": {},
     "output_type": "display_data"
    }
   ],
   "source": [
    "# Aggregate Sales by LIFESTAGE and PREMIUM_CUSTOMER\n",
    "sales_by_lifestage_segment = (\n",
    "    data.groupby(['PREMIUM_CUSTOMER', 'LIFESTAGE'], observed=True)['TOT_SALES']\n",
    "    .sum()\n",
    "    .reset_index(name='TOTAL_SALES')\n",
    "    .sort_values(by='TOTAL_SALES', ascending=False)\n",
    ")\n",
    "\n",
    "# Create grouped bar plot\n",
    "plt.figure(figsize=(12, 6))\n",
    "sns.barplot(data=sales_by_lifestage_segment, \n",
    "            x='LIFESTAGE', \n",
    "            y='TOTAL_SALES', \n",
    "            hue='PREMIUM_CUSTOMER')\n",
    "\n",
    "# Customize the plot\n",
    "plt.title(\"Total Chip Sales by Customer Segment\")\n",
    "plt.ylabel(\"Total Sales ($)\")\n",
    "plt.xticks(rotation=45, ha='right')\n",
    "\n",
    "plt.savefig('./Quantium/Total chip sold by customer segment.png')\n",
    "plt.show();"
   ]
  },
  {
   "cell_type": "markdown",
   "id": "c31eb705",
   "metadata": {},
   "source": [
    "### How many chips are bought per customer by segment?"
   ]
  },
  {
   "cell_type": "code",
   "execution_count": 23,
   "id": "7f83999f",
   "metadata": {},
   "outputs": [
    {
     "data": {
      "application/vnd.plotly.v1+json": {
       "config": {
        "plotlyServerURL": "https://plot.ly"
       },
       "data": [
        {
         "hovertemplate": "PREMIUM_CUSTOMER=Budget<br>LIFESTAGE=%{x}<br>Proportion of Sales (%)=%{y}<br>text=%{text}<extra></extra>",
         "legendgroup": "Budget",
         "marker": {
          "color": "#1f77b4",
          "pattern": {
           "shape": ""
          }
         },
         "name": "Budget",
         "orientation": "v",
         "showlegend": true,
         "text": [
          "7.1%",
          "5.9%",
          "8.7%",
          "7.2%",
          "3.2%",
          "1.8%",
          "1.1%"
         ],
         "textposition": "inside",
         "type": "bar",
         "x": [
          "OLDER SINGLES/COUPLES",
          "RETIREES",
          "OLDER FAMILIES",
          "YOUNG FAMILIES",
          "YOUNG SINGLES/COUPLES",
          "MIDAGE SINGLES/COUPLES",
          "NEW FAMILIES"
         ],
         "xaxis": "x",
         "y": {
          "bdata": "W0q64XNTHEAeVdOXLXgXQCqeOLgaYSFA/fQ3AVi+HECRCRqOlVAJQCZ83ik8jv0/2rqzuOND8j8=",
          "dtype": "f8"
         },
         "yaxis": "y"
        },
        {
         "hovertemplate": "PREMIUM_CUSTOMER=Mainstream<br>LIFESTAGE=%{x}<br>Proportion of Sales (%)=%{y}<br>text=%{text}<extra></extra>",
         "legendgroup": "Mainstream",
         "marker": {
          "color": "#ff7f0e",
          "pattern": {
           "shape": ""
          }
         },
         "name": "Mainstream",
         "orientation": "v",
         "showlegend": true,
         "text": [
          "6.9%",
          "8.0%",
          "5.3%",
          "4.8%",
          "8.2%",
          "4.7%",
          "0.9%"
         ],
         "textposition": "inside",
         "type": "bar",
         "x": [
          "OLDER SINGLES/COUPLES",
          "RETIREES",
          "OLDER FAMILIES",
          "YOUNG FAMILIES",
          "YOUNG SINGLES/COUPLES",
          "MIDAGE SINGLES/COUPLES",
          "NEW FAMILIES"
         ],
         "xaxis": "x",
         "y": {
          "bdata": "iBN1jMaeG0BJ17sKaBUgQMVZqrYgXRVAGfkDY5khE0DHUZ1j2lkgQDTMIHKcxhJABL4I+K1T7D8=",
          "dtype": "f8"
         },
         "yaxis": "y"
        },
        {
         "hovertemplate": "PREMIUM_CUSTOMER=Premium<br>LIFESTAGE=%{x}<br>Proportion of Sales (%)=%{y}<br>text=%{text}<extra></extra>",
         "legendgroup": "Premium",
         "marker": {
          "color": "#2ca02c",
          "pattern": {
           "shape": ""
          }
         },
         "name": "Premium",
         "orientation": "v",
         "showlegend": true,
         "text": [
          "6.8%",
          "5.1%",
          "4.2%",
          "4.4%",
          "2.2%",
          "3.0%",
          "0.6%"
         ],
         "textposition": "inside",
         "type": "bar",
         "x": [
          "OLDER SINGLES/COUPLES",
          "RETIREES",
          "OLDER FAMILIES",
          "YOUNG FAMILIES",
          "YOUNG SINGLES/COUPLES",
          "MIDAGE SINGLES/COUPLES",
          "NEW FAMILIES"
         ],
         "xaxis": "x",
         "y": {
          "bdata": "JxG4ksFfG0Db1eQy3joUQAWFEcIwrBBAtv9eOglpEUD1yVUaik4BQD1C+Z67IAhAdnNYE1AT4z8=",
          "dtype": "f8"
         },
         "yaxis": "y"
        }
       ],
       "layout": {
        "barmode": "stack",
        "height": 600,
        "legend": {
         "title": {
          "text": "Customer Segment"
         },
         "tracegroupgap": 0
        },
        "template": {
         "data": {
          "bar": [
           {
            "error_x": {
             "color": "#2a3f5f"
            },
            "error_y": {
             "color": "#2a3f5f"
            },
            "marker": {
             "line": {
              "color": "#E5ECF6",
              "width": 0.5
             },
             "pattern": {
              "fillmode": "overlay",
              "size": 10,
              "solidity": 0.2
             }
            },
            "type": "bar"
           }
          ],
          "barpolar": [
           {
            "marker": {
             "line": {
              "color": "#E5ECF6",
              "width": 0.5
             },
             "pattern": {
              "fillmode": "overlay",
              "size": 10,
              "solidity": 0.2
             }
            },
            "type": "barpolar"
           }
          ],
          "carpet": [
           {
            "aaxis": {
             "endlinecolor": "#2a3f5f",
             "gridcolor": "white",
             "linecolor": "white",
             "minorgridcolor": "white",
             "startlinecolor": "#2a3f5f"
            },
            "baxis": {
             "endlinecolor": "#2a3f5f",
             "gridcolor": "white",
             "linecolor": "white",
             "minorgridcolor": "white",
             "startlinecolor": "#2a3f5f"
            },
            "type": "carpet"
           }
          ],
          "choropleth": [
           {
            "colorbar": {
             "outlinewidth": 0,
             "ticks": ""
            },
            "type": "choropleth"
           }
          ],
          "contour": [
           {
            "colorbar": {
             "outlinewidth": 0,
             "ticks": ""
            },
            "colorscale": [
             [
              0,
              "#0d0887"
             ],
             [
              0.1111111111111111,
              "#46039f"
             ],
             [
              0.2222222222222222,
              "#7201a8"
             ],
             [
              0.3333333333333333,
              "#9c179e"
             ],
             [
              0.4444444444444444,
              "#bd3786"
             ],
             [
              0.5555555555555556,
              "#d8576b"
             ],
             [
              0.6666666666666666,
              "#ed7953"
             ],
             [
              0.7777777777777778,
              "#fb9f3a"
             ],
             [
              0.8888888888888888,
              "#fdca26"
             ],
             [
              1,
              "#f0f921"
             ]
            ],
            "type": "contour"
           }
          ],
          "contourcarpet": [
           {
            "colorbar": {
             "outlinewidth": 0,
             "ticks": ""
            },
            "type": "contourcarpet"
           }
          ],
          "heatmap": [
           {
            "colorbar": {
             "outlinewidth": 0,
             "ticks": ""
            },
            "colorscale": [
             [
              0,
              "#0d0887"
             ],
             [
              0.1111111111111111,
              "#46039f"
             ],
             [
              0.2222222222222222,
              "#7201a8"
             ],
             [
              0.3333333333333333,
              "#9c179e"
             ],
             [
              0.4444444444444444,
              "#bd3786"
             ],
             [
              0.5555555555555556,
              "#d8576b"
             ],
             [
              0.6666666666666666,
              "#ed7953"
             ],
             [
              0.7777777777777778,
              "#fb9f3a"
             ],
             [
              0.8888888888888888,
              "#fdca26"
             ],
             [
              1,
              "#f0f921"
             ]
            ],
            "type": "heatmap"
           }
          ],
          "histogram": [
           {
            "marker": {
             "pattern": {
              "fillmode": "overlay",
              "size": 10,
              "solidity": 0.2
             }
            },
            "type": "histogram"
           }
          ],
          "histogram2d": [
           {
            "colorbar": {
             "outlinewidth": 0,
             "ticks": ""
            },
            "colorscale": [
             [
              0,
              "#0d0887"
             ],
             [
              0.1111111111111111,
              "#46039f"
             ],
             [
              0.2222222222222222,
              "#7201a8"
             ],
             [
              0.3333333333333333,
              "#9c179e"
             ],
             [
              0.4444444444444444,
              "#bd3786"
             ],
             [
              0.5555555555555556,
              "#d8576b"
             ],
             [
              0.6666666666666666,
              "#ed7953"
             ],
             [
              0.7777777777777778,
              "#fb9f3a"
             ],
             [
              0.8888888888888888,
              "#fdca26"
             ],
             [
              1,
              "#f0f921"
             ]
            ],
            "type": "histogram2d"
           }
          ],
          "histogram2dcontour": [
           {
            "colorbar": {
             "outlinewidth": 0,
             "ticks": ""
            },
            "colorscale": [
             [
              0,
              "#0d0887"
             ],
             [
              0.1111111111111111,
              "#46039f"
             ],
             [
              0.2222222222222222,
              "#7201a8"
             ],
             [
              0.3333333333333333,
              "#9c179e"
             ],
             [
              0.4444444444444444,
              "#bd3786"
             ],
             [
              0.5555555555555556,
              "#d8576b"
             ],
             [
              0.6666666666666666,
              "#ed7953"
             ],
             [
              0.7777777777777778,
              "#fb9f3a"
             ],
             [
              0.8888888888888888,
              "#fdca26"
             ],
             [
              1,
              "#f0f921"
             ]
            ],
            "type": "histogram2dcontour"
           }
          ],
          "mesh3d": [
           {
            "colorbar": {
             "outlinewidth": 0,
             "ticks": ""
            },
            "type": "mesh3d"
           }
          ],
          "parcoords": [
           {
            "line": {
             "colorbar": {
              "outlinewidth": 0,
              "ticks": ""
             }
            },
            "type": "parcoords"
           }
          ],
          "pie": [
           {
            "automargin": true,
            "type": "pie"
           }
          ],
          "scatter": [
           {
            "fillpattern": {
             "fillmode": "overlay",
             "size": 10,
             "solidity": 0.2
            },
            "type": "scatter"
           }
          ],
          "scatter3d": [
           {
            "line": {
             "colorbar": {
              "outlinewidth": 0,
              "ticks": ""
             }
            },
            "marker": {
             "colorbar": {
              "outlinewidth": 0,
              "ticks": ""
             }
            },
            "type": "scatter3d"
           }
          ],
          "scattercarpet": [
           {
            "marker": {
             "colorbar": {
              "outlinewidth": 0,
              "ticks": ""
             }
            },
            "type": "scattercarpet"
           }
          ],
          "scattergeo": [
           {
            "marker": {
             "colorbar": {
              "outlinewidth": 0,
              "ticks": ""
             }
            },
            "type": "scattergeo"
           }
          ],
          "scattergl": [
           {
            "marker": {
             "colorbar": {
              "outlinewidth": 0,
              "ticks": ""
             }
            },
            "type": "scattergl"
           }
          ],
          "scattermap": [
           {
            "marker": {
             "colorbar": {
              "outlinewidth": 0,
              "ticks": ""
             }
            },
            "type": "scattermap"
           }
          ],
          "scattermapbox": [
           {
            "marker": {
             "colorbar": {
              "outlinewidth": 0,
              "ticks": ""
             }
            },
            "type": "scattermapbox"
           }
          ],
          "scatterpolar": [
           {
            "marker": {
             "colorbar": {
              "outlinewidth": 0,
              "ticks": ""
             }
            },
            "type": "scatterpolar"
           }
          ],
          "scatterpolargl": [
           {
            "marker": {
             "colorbar": {
              "outlinewidth": 0,
              "ticks": ""
             }
            },
            "type": "scatterpolargl"
           }
          ],
          "scatterternary": [
           {
            "marker": {
             "colorbar": {
              "outlinewidth": 0,
              "ticks": ""
             }
            },
            "type": "scatterternary"
           }
          ],
          "surface": [
           {
            "colorbar": {
             "outlinewidth": 0,
             "ticks": ""
            },
            "colorscale": [
             [
              0,
              "#0d0887"
             ],
             [
              0.1111111111111111,
              "#46039f"
             ],
             [
              0.2222222222222222,
              "#7201a8"
             ],
             [
              0.3333333333333333,
              "#9c179e"
             ],
             [
              0.4444444444444444,
              "#bd3786"
             ],
             [
              0.5555555555555556,
              "#d8576b"
             ],
             [
              0.6666666666666666,
              "#ed7953"
             ],
             [
              0.7777777777777778,
              "#fb9f3a"
             ],
             [
              0.8888888888888888,
              "#fdca26"
             ],
             [
              1,
              "#f0f921"
             ]
            ],
            "type": "surface"
           }
          ],
          "table": [
           {
            "cells": {
             "fill": {
              "color": "#EBF0F8"
             },
             "line": {
              "color": "white"
             }
            },
            "header": {
             "fill": {
              "color": "#C8D4E3"
             },
             "line": {
              "color": "white"
             }
            },
            "type": "table"
           }
          ]
         },
         "layout": {
          "annotationdefaults": {
           "arrowcolor": "#2a3f5f",
           "arrowhead": 0,
           "arrowwidth": 1
          },
          "autotypenumbers": "strict",
          "coloraxis": {
           "colorbar": {
            "outlinewidth": 0,
            "ticks": ""
           }
          },
          "colorscale": {
           "diverging": [
            [
             0,
             "#8e0152"
            ],
            [
             0.1,
             "#c51b7d"
            ],
            [
             0.2,
             "#de77ae"
            ],
            [
             0.3,
             "#f1b6da"
            ],
            [
             0.4,
             "#fde0ef"
            ],
            [
             0.5,
             "#f7f7f7"
            ],
            [
             0.6,
             "#e6f5d0"
            ],
            [
             0.7,
             "#b8e186"
            ],
            [
             0.8,
             "#7fbc41"
            ],
            [
             0.9,
             "#4d9221"
            ],
            [
             1,
             "#276419"
            ]
           ],
           "sequential": [
            [
             0,
             "#0d0887"
            ],
            [
             0.1111111111111111,
             "#46039f"
            ],
            [
             0.2222222222222222,
             "#7201a8"
            ],
            [
             0.3333333333333333,
             "#9c179e"
            ],
            [
             0.4444444444444444,
             "#bd3786"
            ],
            [
             0.5555555555555556,
             "#d8576b"
            ],
            [
             0.6666666666666666,
             "#ed7953"
            ],
            [
             0.7777777777777778,
             "#fb9f3a"
            ],
            [
             0.8888888888888888,
             "#fdca26"
            ],
            [
             1,
             "#f0f921"
            ]
           ],
           "sequentialminus": [
            [
             0,
             "#0d0887"
            ],
            [
             0.1111111111111111,
             "#46039f"
            ],
            [
             0.2222222222222222,
             "#7201a8"
            ],
            [
             0.3333333333333333,
             "#9c179e"
            ],
            [
             0.4444444444444444,
             "#bd3786"
            ],
            [
             0.5555555555555556,
             "#d8576b"
            ],
            [
             0.6666666666666666,
             "#ed7953"
            ],
            [
             0.7777777777777778,
             "#fb9f3a"
            ],
            [
             0.8888888888888888,
             "#fdca26"
            ],
            [
             1,
             "#f0f921"
            ]
           ]
          },
          "colorway": [
           "#636efa",
           "#EF553B",
           "#00cc96",
           "#ab63fa",
           "#FFA15A",
           "#19d3f3",
           "#FF6692",
           "#B6E880",
           "#FF97FF",
           "#FECB52"
          ],
          "font": {
           "color": "#2a3f5f"
          },
          "geo": {
           "bgcolor": "white",
           "lakecolor": "white",
           "landcolor": "#E5ECF6",
           "showlakes": true,
           "showland": true,
           "subunitcolor": "white"
          },
          "hoverlabel": {
           "align": "left"
          },
          "hovermode": "closest",
          "mapbox": {
           "style": "light"
          },
          "paper_bgcolor": "white",
          "plot_bgcolor": "#E5ECF6",
          "polar": {
           "angularaxis": {
            "gridcolor": "white",
            "linecolor": "white",
            "ticks": ""
           },
           "bgcolor": "#E5ECF6",
           "radialaxis": {
            "gridcolor": "white",
            "linecolor": "white",
            "ticks": ""
           }
          },
          "scene": {
           "xaxis": {
            "backgroundcolor": "#E5ECF6",
            "gridcolor": "white",
            "gridwidth": 2,
            "linecolor": "white",
            "showbackground": true,
            "ticks": "",
            "zerolinecolor": "white"
           },
           "yaxis": {
            "backgroundcolor": "#E5ECF6",
            "gridcolor": "white",
            "gridwidth": 2,
            "linecolor": "white",
            "showbackground": true,
            "ticks": "",
            "zerolinecolor": "white"
           },
           "zaxis": {
            "backgroundcolor": "#E5ECF6",
            "gridcolor": "white",
            "gridwidth": 2,
            "linecolor": "white",
            "showbackground": true,
            "ticks": "",
            "zerolinecolor": "white"
           }
          },
          "shapedefaults": {
           "line": {
            "color": "#2a3f5f"
           }
          },
          "ternary": {
           "aaxis": {
            "gridcolor": "white",
            "linecolor": "white",
            "ticks": ""
           },
           "baxis": {
            "gridcolor": "white",
            "linecolor": "white",
            "ticks": ""
           },
           "bgcolor": "#E5ECF6",
           "caxis": {
            "gridcolor": "white",
            "linecolor": "white",
            "ticks": ""
           }
          },
          "title": {
           "x": 0.05
          },
          "xaxis": {
           "automargin": true,
           "gridcolor": "white",
           "linecolor": "white",
           "ticks": "",
           "title": {
            "standoff": 15
           },
           "zerolinecolor": "white",
           "zerolinewidth": 2
          },
          "yaxis": {
           "automargin": true,
           "gridcolor": "white",
           "linecolor": "white",
           "ticks": "",
           "title": {
            "standoff": 15
           },
           "zerolinecolor": "white",
           "zerolinewidth": 2
          }
         }
        },
        "title": {
         "text": "Total sales by LIFESTAGE and CUSTOMER SEGMENT"
        },
        "updatemenus": [
         {
          "buttons": [
           {
            "args": [
             {
              "visible": [
               true,
               true,
               true
              ]
             }
            ],
            "label": "All",
            "method": "restyle"
           },
           {
            "args": [
             {
              "visible": [
               true,
               false,
               false,
               false,
               true,
               false,
               true,
               false,
               false,
               false,
               false,
               true,
               false,
               true,
               false,
               false,
               false,
               true,
               true,
               false,
               false
              ]
             }
            ],
            "label": "Budget",
            "method": "restyle"
           },
           {
            "args": [
             {
              "visible": [
               false,
               true,
               false,
               true,
               false,
               false,
               false,
               false,
               true,
               false,
               true,
               false,
               true,
               false,
               false,
               true,
               false,
               false,
               false,
               true,
               false
              ]
             }
            ],
            "label": "Mainstream",
            "method": "restyle"
           },
           {
            "args": [
             {
              "visible": [
               false,
               false,
               true,
               false,
               false,
               true,
               false,
               true,
               false,
               true,
               false,
               false,
               false,
               false,
               true,
               false,
               true,
               false,
               false,
               false,
               true
              ]
             }
            ],
            "label": "Premium",
            "method": "restyle"
           }
          ],
          "direction": "down",
          "showactive": true,
          "x": 1.02,
          "xanchor": "left",
          "y": 0.75,
          "yanchor": "top"
         }
        ],
        "width": 1000,
        "xaxis": {
         "anchor": "y",
         "domain": [
          0,
          1
         ],
         "title": {
          "text": "Lifestage"
         }
        },
        "yaxis": {
         "anchor": "x",
         "domain": [
          0,
          1
         ],
         "title": {
          "text": "Percentage of Total Sales"
         }
        }
       }
      }
     },
     "metadata": {},
     "output_type": "display_data"
    },
    {
     "data": {
      "text/plain": [
       "<Figure size 640x480 with 0 Axes>"
      ]
     },
     "metadata": {},
     "output_type": "display_data"
    }
   ],
   "source": [
    "# Compute overall total sales\n",
    "total_sales_overall = data['TOT_SALES'].sum()\n",
    "\n",
    "# Include a proportion column to our sales by segment\n",
    "sales_by_lifestage_segment['PROPORTION'] = (sales_by_lifestage_segment['TOTAL_SALES'] / total_sales_overall * 100)\n",
    "\n",
    "# Sort LIFESTAGE by total sales\n",
    "lifestage_order = (\n",
    "    sales_by_lifestage_segment.groupby('LIFESTAGE', observed=True)['TOTAL_SALES']\n",
    "    .sum()\n",
    "    .sort_values(ascending=False)\n",
    "    .index\n",
    "    .tolist()\n",
    ")\n",
    "sales_by_lifestage_segment['LIFESTAGE'] = pd.Categorical(\n",
    "    sales_by_lifestage_segment['LIFESTAGE'], categories=lifestage_order, ordered=True\n",
    "    )\n",
    "sales_by_lifestage_segment = sales_by_lifestage_segment.sort_values('LIFESTAGE')\n",
    "\n",
    "# 3. Create Stacked Bar Chart using Plotly Express\n",
    "fig = px.bar(\n",
    "    sales_by_lifestage_segment,\n",
    "    x='LIFESTAGE',\n",
    "    y='PROPORTION',\n",
    "    color='PREMIUM_CUSTOMER',\n",
    "    text=sales_by_lifestage_segment['PROPORTION'].round(1).astype(str) + '%',\n",
    "    title='Total sales by LIFESTAGE and CUSTOMER SEGMENT',\n",
    "    labels={'PROPORTION': 'Proportion of Sales (%)'},\n",
    "    color_discrete_sequence=['#1f77b4', '#ff7f0e', '#2ca02c'],\n",
    "    height=600,\n",
    "    width=1000\n",
    ")\n",
    "\n",
    "# Customize layout\n",
    "fig.update_traces(textposition='inside')\n",
    "fig.update_layout(\n",
    "    barmode='stack',\n",
    "    xaxis_title='Lifestage',\n",
    "    yaxis_title='Percentage of Total Sales',\n",
    "    legend_title='Customer Segment',\n",
    ")\n",
    "\n",
    "fig.update_layout(\n",
    "    updatemenus=[\n",
    "        dict(\n",
    "            buttons=[\n",
    "                dict(\n",
    "                    label=\"All\", method=\"restyle\", args=[\n",
    "                        {\"visible\": [True] * len(sales_by_lifestage_segment['PREMIUM_CUSTOMER'].unique())}\n",
    "                        ]\n",
    "                    ),\n",
    "                *[\n",
    "                    dict(label=customer,\n",
    "                         method=\"restyle\",\n",
    "                         args=[{\"visible\": [customer == val for val in sales_by_lifestage_segment['PREMIUM_CUSTOMER']]}])\n",
    "                    for customer in sales_by_lifestage_segment['PREMIUM_CUSTOMER'].unique()\n",
    "                ]\n",
    "            ],\n",
    "            direction=\"down\",\n",
    "            showactive=True,\n",
    "            x=1.02,\n",
    "            y=0.75,\n",
    "            xanchor='left',\n",
    "            yanchor='top'\n",
    "        )\n",
    "    ]\n",
    ")\n",
    "\n",
    "plt.savefig('./Quantium/Total Sale percentage.png')\n",
    "fig.show();"
   ]
  },
  {
   "cell_type": "markdown",
   "id": "be91411a",
   "metadata": {},
   "source": [
    "### How many customers are in each segment?"
   ]
  },
  {
   "cell_type": "code",
   "execution_count": 24,
   "id": "4288655c",
   "metadata": {},
   "outputs": [
    {
     "name": "stdout",
     "output_type": "stream",
     "text": [
      "PREMIUM_CUSTOMER  LIFESTAGE             \n",
      "Premium           NEW FAMILIES               575\n",
      "Mainstream        NEW FAMILIES               830\n",
      "Budget            NEW FAMILIES              1087\n",
      "                  MIDAGE SINGLES/COUPLES    1474\n",
      "Premium           OLDER FAMILIES            2231\n",
      "                  MIDAGE SINGLES/COUPLES    2369\n",
      "                  YOUNG FAMILIES            2398\n",
      "                  YOUNG SINGLES/COUPLES     2480\n",
      "Mainstream        YOUNG FAMILIES            2685\n",
      "                  OLDER FAMILIES            2788\n",
      "                  MIDAGE SINGLES/COUPLES    3298\n",
      "Budget            YOUNG SINGLES/COUPLES     3647\n",
      "Premium           RETIREES                  3812\n",
      "Budget            YOUNG FAMILIES            3953\n",
      "                  RETIREES                  4385\n",
      "                  OLDER FAMILIES            4611\n",
      "Premium           OLDER SINGLES/COUPLES     4682\n",
      "Budget            OLDER SINGLES/COUPLES     4849\n",
      "Mainstream        OLDER SINGLES/COUPLES     4858\n",
      "                  RETIREES                  6358\n",
      "                  YOUNG SINGLES/COUPLES     7917\n",
      "Name: LYLTY_CARD_NBR, dtype: int64\n"
     ]
    },
    {
     "data": {
      "image/png": "[encoded data removed]",
      "text/plain": [
       "<Figure size 1200x600 with 1 Axes>"
      ]
     },
     "metadata": {},
     "output_type": "display_data"
    }
   ],
   "source": [
    "customer_segment = data.groupby(['PREMIUM_CUSTOMER', 'LIFESTAGE'], observed=True)['LYLTY_CARD_NBR'].nunique().sort_values()\n",
    "print(customer_segment)\n",
    "\n",
    "fig, ax = plt.subplots(figsize=(12, 6))\n",
    "customer_segment.plot(\n",
    "    kind=\"barh\",\n",
    "    ax=ax,\n",
    "    xlabel=\"Number of customers\",\n",
    "    ylabel=\"CUSTOMER SEGMENT\",\n",
    "    title=\"Count of Customers\",\n",
    "    rot=0\n",
    ");\n",
    "\n",
    "ax.set_axisbelow(True)\n",
    "plt.grid(axis='x', linestyle='--', alpha=0.5)\n",
    "\n",
    "plt.savefig('./Quantium/Customer group group.png')\n",
    "\n"
   ]
  },
  {
   "cell_type": "code",
   "execution_count": 25,
   "id": "7b632e56",
   "metadata": {},
   "outputs": [
    {
     "data": {
      "application/vnd.plotly.v1+json": {
       "config": {
        "plotlyServerURL": "https://plot.ly"
       },
       "data": [
        {
         "hovertemplate": "Customer Segment=Premium<br>Lifestage=%{x}<br>Proportion of Customers (%)=%{y}<br>text=%{text}<extra></extra>",
         "legendgroup": "Premium",
         "marker": {
          "color": "#1f77b4",
          "pattern": {
           "shape": ""
          }
         },
         "name": "Premium",
         "orientation": "v",
         "showlegend": true,
         "text": [
          "5.3%",
          "6.6%",
          "3.5%",
          "3.1%",
          "3.4%",
          "3.3%",
          "0.8%"
         ],
         "textposition": "inside",
         "type": "bar",
         "x": [
          "RETIREES",
          "OLDER SINGLES/COUPLES",
          "YOUNG SINGLES/COUPLES",
          "OLDER FAMILIES",
          "YOUNG FAMILIES",
          "MIDAGE SINGLES/COUPLES",
          "NEW FAMILIES"
         ],
         "xaxis": "x",
         "y": {
          "bdata": "viejcbxjFUCV457tcUUaQEO2sv3G1AtAsWEkO20JCUCfD9UyM+kKQNO+O9XilQpAQhAwCKjP6T8=",
          "dtype": "f8"
         },
         "yaxis": "y"
        },
        {
         "hovertemplate": "Customer Segment=Budget<br>Lifestage=%{x}<br>Proportion of Customers (%)=%{y}<br>text=%{text}<extra></extra>",
         "legendgroup": "Budget",
         "marker": {
          "color": "#ff7f0e",
          "pattern": {
           "shape": ""
          }
         },
         "name": "Budget",
         "orientation": "v",
         "showlegend": true,
         "text": [
          "6.2%",
          "6.8%",
          "5.1%",
          "6.5%",
          "5.5%",
          "2.1%",
          "1.5%"
         ],
         "textposition": "inside",
         "type": "bar",
         "x": [
          "RETIREES",
          "OLDER SINGLES/COUPLES",
          "YOUNG SINGLES/COUPLES",
          "OLDER FAMILIES",
          "YOUNG FAMILIES",
          "MIDAGE SINGLES/COUPLES",
          "NEW FAMILIES"
         ],
         "xaxis": "x",
         "y": {
          "bdata": "O7Ss/NGaGECLOnfpVDUbQFNGx+u4dhRAwZYcEXXfGUChhqlvRi4WQInMnFeligBAqTXu9atl+D8=",
          "dtype": "f8"
         },
         "yaxis": "y"
        },
        {
         "hovertemplate": "Customer Segment=Mainstream<br>Lifestage=%{x}<br>Proportion of Customers (%)=%{y}<br>text=%{text}<extra></extra>",
         "legendgroup": "Mainstream",
         "marker": {
          "color": "#2ca02c",
          "pattern": {
           "shape": ""
          }
         },
         "name": "Mainstream",
         "orientation": "v",
         "showlegend": true,
         "text": [
          "8.9%",
          "6.8%",
          "11.1%",
          "3.9%",
          "3.8%",
          "4.6%",
          "1.2%"
         ],
         "textposition": "inside",
         "type": "bar",
         "x": [
          "RETIREES",
          "OLDER SINGLES/COUPLES",
          "YOUNG SINGLES/COUPLES",
          "OLDER FAMILIES",
          "YOUNG FAMILIES",
          "MIDAGE SINGLES/COUPLES",
          "NEW FAMILIES"
         ],
         "xaxis": "x",
         "y": {
          "bdata": "69QDE3fWIUB/S2d8QkIbQODJH/QsNiZA9SFw8aBJD0Di1tx4uCEOQNEmMf9mgRJAzjMKEQGh8j8=",
          "dtype": "f8"
         },
         "yaxis": "y"
        }
       ],
       "layout": {
        "barmode": "stack",
        "height": 600,
        "legend": {
         "title": {
          "text": "Customer Segment"
         },
         "tracegroupgap": 0
        },
        "template": {
         "data": {
          "bar": [
           {
            "error_x": {
             "color": "#2a3f5f"
            },
            "error_y": {
             "color": "#2a3f5f"
            },
            "marker": {
             "line": {
              "color": "#E5ECF6",
              "width": 0.5
             },
             "pattern": {
              "fillmode": "overlay",
              "size": 10,
              "solidity": 0.2
             }
            },
            "type": "bar"
           }
          ],
          "barpolar": [
           {
            "marker": {
             "line": {
              "color": "#E5ECF6",
              "width": 0.5
             },
             "pattern": {
              "fillmode": "overlay",
              "size": 10,
              "solidity": 0.2
             }
            },
            "type": "barpolar"
           }
          ],
          "carpet": [
           {
            "aaxis": {
             "endlinecolor": "#2a3f5f",
             "gridcolor": "white",
             "linecolor": "white",
             "minorgridcolor": "white",
             "startlinecolor": "#2a3f5f"
            },
            "baxis": {
             "endlinecolor": "#2a3f5f",
             "gridcolor": "white",
             "linecolor": "white",
             "minorgridcolor": "white",
             "startlinecolor": "#2a3f5f"
            },
            "type": "carpet"
           }
          ],
          "choropleth": [
           {
            "colorbar": {
             "outlinewidth": 0,
             "ticks": ""
            },
            "type": "choropleth"
           }
          ],
          "contour": [
           {
            "colorbar": {
             "outlinewidth": 0,
             "ticks": ""
            },
            "colorscale": [
             [
              0,
              "#0d0887"
             ],
             [
              0.1111111111111111,
              "#46039f"
             ],
             [
              0.2222222222222222,
              "#7201a8"
             ],
             [
              0.3333333333333333,
              "#9c179e"
             ],
             [
              0.4444444444444444,
              "#bd3786"
             ],
             [
              0.5555555555555556,
              "#d8576b"
             ],
             [
              0.6666666666666666,
              "#ed7953"
             ],
             [
              0.7777777777777778,
              "#fb9f3a"
             ],
             [
              0.8888888888888888,
              "#fdca26"
             ],
             [
              1,
              "#f0f921"
             ]
            ],
            "type": "contour"
           }
          ],
          "contourcarpet": [
           {
            "colorbar": {
             "outlinewidth": 0,
             "ticks": ""
            },
            "type": "contourcarpet"
           }
          ],
          "heatmap": [
           {
            "colorbar": {
             "outlinewidth": 0,
             "ticks": ""
            },
            "colorscale": [
             [
              0,
              "#0d0887"
             ],
             [
              0.1111111111111111,
              "#46039f"
             ],
             [
              0.2222222222222222,
              "#7201a8"
             ],
             [
              0.3333333333333333,
              "#9c179e"
             ],
             [
              0.4444444444444444,
              "#bd3786"
             ],
             [
              0.5555555555555556,
              "#d8576b"
             ],
             [
              0.6666666666666666,
              "#ed7953"
             ],
             [
              0.7777777777777778,
              "#fb9f3a"
             ],
             [
              0.8888888888888888,
              "#fdca26"
             ],
             [
              1,
              "#f0f921"
             ]
            ],
            "type": "heatmap"
           }
          ],
          "histogram": [
           {
            "marker": {
             "pattern": {
              "fillmode": "overlay",
              "size": 10,
              "solidity": 0.2
             }
            },
            "type": "histogram"
           }
          ],
          "histogram2d": [
           {
            "colorbar": {
             "outlinewidth": 0,
             "ticks": ""
            },
            "colorscale": [
             [
              0,
              "#0d0887"
             ],
             [
              0.1111111111111111,
              "#46039f"
             ],
             [
              0.2222222222222222,
              "#7201a8"
             ],
             [
              0.3333333333333333,
              "#9c179e"
             ],
             [
              0.4444444444444444,
              "#bd3786"
             ],
             [
              0.5555555555555556,
              "#d8576b"
             ],
             [
              0.6666666666666666,
              "#ed7953"
             ],
             [
              0.7777777777777778,
              "#fb9f3a"
             ],
             [
              0.8888888888888888,
              "#fdca26"
             ],
             [
              1,
              "#f0f921"
             ]
            ],
            "type": "histogram2d"
           }
          ],
          "histogram2dcontour": [
           {
            "colorbar": {
             "outlinewidth": 0,
             "ticks": ""
            },
            "colorscale": [
             [
              0,
              "#0d0887"
             ],
             [
              0.1111111111111111,
              "#46039f"
             ],
             [
              0.2222222222222222,
              "#7201a8"
             ],
             [
              0.3333333333333333,
              "#9c179e"
             ],
             [
              0.4444444444444444,
              "#bd3786"
             ],
             [
              0.5555555555555556,
              "#d8576b"
             ],
             [
              0.6666666666666666,
              "#ed7953"
             ],
             [
              0.7777777777777778,
              "#fb9f3a"
             ],
             [
              0.8888888888888888,
              "#fdca26"
             ],
             [
              1,
              "#f0f921"
             ]
            ],
            "type": "histogram2dcontour"
           }
          ],
          "mesh3d": [
           {
            "colorbar": {
             "outlinewidth": 0,
             "ticks": ""
            },
            "type": "mesh3d"
           }
          ],
          "parcoords": [
           {
            "line": {
             "colorbar": {
              "outlinewidth": 0,
              "ticks": ""
             }
            },
            "type": "parcoords"
           }
          ],
          "pie": [
           {
            "automargin": true,
            "type": "pie"
           }
          ],
          "scatter": [
           {
            "fillpattern": {
             "fillmode": "overlay",
             "size": 10,
             "solidity": 0.2
            },
            "type": "scatter"
           }
          ],
          "scatter3d": [
           {
            "line": {
             "colorbar": {
              "outlinewidth": 0,
              "ticks": ""
             }
            },
            "marker": {
             "colorbar": {
              "outlinewidth": 0,
              "ticks": ""
             }
            },
            "type": "scatter3d"
           }
          ],
          "scattercarpet": [
           {
            "marker": {
             "colorbar": {
              "outlinewidth": 0,
              "ticks": ""
             }
            },
            "type": "scattercarpet"
           }
          ],
          "scattergeo": [
           {
            "marker": {
             "colorbar": {
              "outlinewidth": 0,
              "ticks": ""
             }
            },
            "type": "scattergeo"
           }
          ],
          "scattergl": [
           {
            "marker": {
             "colorbar": {
              "outlinewidth": 0,
              "ticks": ""
             }
            },
            "type": "scattergl"
           }
          ],
          "scattermap": [
           {
            "marker": {
             "colorbar": {
              "outlinewidth": 0,
              "ticks": ""
             }
            },
            "type": "scattermap"
           }
          ],
          "scattermapbox": [
           {
            "marker": {
             "colorbar": {
              "outlinewidth": 0,
              "ticks": ""
             }
            },
            "type": "scattermapbox"
           }
          ],
          "scatterpolar": [
           {
            "marker": {
             "colorbar": {
              "outlinewidth": 0,
              "ticks": ""
             }
            },
            "type": "scatterpolar"
           }
          ],
          "scatterpolargl": [
           {
            "marker": {
             "colorbar": {
              "outlinewidth": 0,
              "ticks": ""
             }
            },
            "type": "scatterpolargl"
           }
          ],
          "scatterternary": [
           {
            "marker": {
             "colorbar": {
              "outlinewidth": 0,
              "ticks": ""
             }
            },
            "type": "scatterternary"
           }
          ],
          "surface": [
           {
            "colorbar": {
             "outlinewidth": 0,
             "ticks": ""
            },
            "colorscale": [
             [
              0,
              "#0d0887"
             ],
             [
              0.1111111111111111,
              "#46039f"
             ],
             [
              0.2222222222222222,
              "#7201a8"
             ],
             [
              0.3333333333333333,
              "#9c179e"
             ],
             [
              0.4444444444444444,
              "#bd3786"
             ],
             [
              0.5555555555555556,
              "#d8576b"
             ],
             [
              0.6666666666666666,
              "#ed7953"
             ],
             [
              0.7777777777777778,
              "#fb9f3a"
             ],
             [
              0.8888888888888888,
              "#fdca26"
             ],
             [
              1,
              "#f0f921"
             ]
            ],
            "type": "surface"
           }
          ],
          "table": [
           {
            "cells": {
             "fill": {
              "color": "#EBF0F8"
             },
             "line": {
              "color": "white"
             }
            },
            "header": {
             "fill": {
              "color": "#C8D4E3"
             },
             "line": {
              "color": "white"
             }
            },
            "type": "table"
           }
          ]
         },
         "layout": {
          "annotationdefaults": {
           "arrowcolor": "#2a3f5f",
           "arrowhead": 0,
           "arrowwidth": 1
          },
          "autotypenumbers": "strict",
          "coloraxis": {
           "colorbar": {
            "outlinewidth": 0,
            "ticks": ""
           }
          },
          "colorscale": {
           "diverging": [
            [
             0,
             "#8e0152"
            ],
            [
             0.1,
             "#c51b7d"
            ],
            [
             0.2,
             "#de77ae"
            ],
            [
             0.3,
             "#f1b6da"
            ],
            [
             0.4,
             "#fde0ef"
            ],
            [
             0.5,
             "#f7f7f7"
            ],
            [
             0.6,
             "#e6f5d0"
            ],
            [
             0.7,
             "#b8e186"
            ],
            [
             0.8,
             "#7fbc41"
            ],
            [
             0.9,
             "#4d9221"
            ],
            [
             1,
             "#276419"
            ]
           ],
           "sequential": [
            [
             0,
             "#0d0887"
            ],
            [
             0.1111111111111111,
             "#46039f"
            ],
            [
             0.2222222222222222,
             "#7201a8"
            ],
            [
             0.3333333333333333,
             "#9c179e"
            ],
            [
             0.4444444444444444,
             "#bd3786"
            ],
            [
             0.5555555555555556,
             "#d8576b"
            ],
            [
             0.6666666666666666,
             "#ed7953"
            ],
            [
             0.7777777777777778,
             "#fb9f3a"
            ],
            [
             0.8888888888888888,
             "#fdca26"
            ],
            [
             1,
             "#f0f921"
            ]
           ],
           "sequentialminus": [
            [
             0,
             "#0d0887"
            ],
            [
             0.1111111111111111,
             "#46039f"
            ],
            [
             0.2222222222222222,
             "#7201a8"
            ],
            [
             0.3333333333333333,
             "#9c179e"
            ],
            [
             0.4444444444444444,
             "#bd3786"
            ],
            [
             0.5555555555555556,
             "#d8576b"
            ],
            [
             0.6666666666666666,
             "#ed7953"
            ],
            [
             0.7777777777777778,
             "#fb9f3a"
            ],
            [
             0.8888888888888888,
             "#fdca26"
            ],
            [
             1,
             "#f0f921"
            ]
           ]
          },
          "colorway": [
           "#636efa",
           "#EF553B",
           "#00cc96",
           "#ab63fa",
           "#FFA15A",
           "#19d3f3",
           "#FF6692",
           "#B6E880",
           "#FF97FF",
           "#FECB52"
          ],
          "font": {
           "color": "#2a3f5f"
          },
          "geo": {
           "bgcolor": "white",
           "lakecolor": "white",
           "landcolor": "#E5ECF6",
           "showlakes": true,
           "showland": true,
           "subunitcolor": "white"
          },
          "hoverlabel": {
           "align": "left"
          },
          "hovermode": "closest",
          "mapbox": {
           "style": "light"
          },
          "paper_bgcolor": "white",
          "plot_bgcolor": "#E5ECF6",
          "polar": {
           "angularaxis": {
            "gridcolor": "white",
            "linecolor": "white",
            "ticks": ""
           },
           "bgcolor": "#E5ECF6",
           "radialaxis": {
            "gridcolor": "white",
            "linecolor": "white",
            "ticks": ""
           }
          },
          "scene": {
           "xaxis": {
            "backgroundcolor": "#E5ECF6",
            "gridcolor": "white",
            "gridwidth": 2,
            "linecolor": "white",
            "showbackground": true,
            "ticks": "",
            "zerolinecolor": "white"
           },
           "yaxis": {
            "backgroundcolor": "#E5ECF6",
            "gridcolor": "white",
            "gridwidth": 2,
            "linecolor": "white",
            "showbackground": true,
            "ticks": "",
            "zerolinecolor": "white"
           },
           "zaxis": {
            "backgroundcolor": "#E5ECF6",
            "gridcolor": "white",
            "gridwidth": 2,
            "linecolor": "white",
            "showbackground": true,
            "ticks": "",
            "zerolinecolor": "white"
           }
          },
          "shapedefaults": {
           "line": {
            "color": "#2a3f5f"
           }
          },
          "ternary": {
           "aaxis": {
            "gridcolor": "white",
            "linecolor": "white",
            "ticks": ""
           },
           "baxis": {
            "gridcolor": "white",
            "linecolor": "white",
            "ticks": ""
           },
           "bgcolor": "#E5ECF6",
           "caxis": {
            "gridcolor": "white",
            "linecolor": "white",
            "ticks": ""
           }
          },
          "title": {
           "x": 0.05
          },
          "xaxis": {
           "automargin": true,
           "gridcolor": "white",
           "linecolor": "white",
           "ticks": "",
           "title": {
            "standoff": 15
           },
           "zerolinecolor": "white",
           "zerolinewidth": 2
          },
          "yaxis": {
           "automargin": true,
           "gridcolor": "white",
           "linecolor": "white",
           "ticks": "",
           "title": {
            "standoff": 15
           },
           "zerolinecolor": "white",
           "zerolinewidth": 2
          }
         }
        },
        "title": {
         "text": "Proportion of Customers by Lifestage and Premium Customer Flag"
        },
        "updatemenus": [
         {
          "buttons": [
           {
            "args": [
             {
              "visible": [
               true,
               true,
               true
              ]
             }
            ],
            "label": "All",
            "method": "restyle"
           },
           {
            "args": [
             {
              "visible": [
               true,
               false,
               false,
               false,
               true,
               false,
               false,
               true,
               false,
               false,
               true,
               false,
               true,
               false,
               false,
               true,
               false,
               false,
               false,
               true,
               false
              ]
             }
            ],
            "label": "Premium",
            "method": "restyle"
           },
           {
            "args": [
             {
              "visible": [
               false,
               true,
               false,
               false,
               false,
               true,
               false,
               false,
               true,
               false,
               false,
               true,
               false,
               false,
               true,
               false,
               false,
               true,
               false,
               false,
               true
              ]
             }
            ],
            "label": "Budget",
            "method": "restyle"
           },
           {
            "args": [
             {
              "visible": [
               false,
               false,
               true,
               true,
               false,
               false,
               true,
               false,
               false,
               true,
               false,
               false,
               false,
               true,
               false,
               false,
               true,
               false,
               true,
               false,
               false
              ]
             }
            ],
            "label": "Mainstream",
            "method": "restyle"
           }
          ],
          "direction": "down",
          "showactive": true,
          "x": 1.02,
          "xanchor": "left",
          "y": 0.75,
          "yanchor": "top"
         }
        ],
        "width": 1000,
        "xaxis": {
         "anchor": "y",
         "domain": [
          0,
          1
         ],
         "title": {
          "text": "Lifestage"
         }
        },
        "yaxis": {
         "anchor": "x",
         "domain": [
          0,
          1
         ],
         "title": {
          "text": "Customer Segment Percentage [%]"
         }
        }
       }
      }
     },
     "metadata": {},
     "output_type": "display_data"
    },
    {
     "data": {
      "text/plain": [
       "<Figure size 640x480 with 0 Axes>"
      ]
     },
     "metadata": {},
     "output_type": "display_data"
    }
   ],
   "source": [
    "# Count unique customers per segment (PREMIUM_CUSTOMER and LIFESTAGE combination)\n",
    "customers = (\n",
    "    data.groupby(['PREMIUM_CUSTOMER', 'LIFESTAGE'], observed=True)['LYLTY_CARD_NBR']\n",
    "    .nunique()\n",
    "    .reset_index(name='CUSTOMERS')\n",
    ")\n",
    "\n",
    "# Compute proportion of customers per segment (out of total unique customers)\n",
    "total_customers = customers['CUSTOMERS'].sum()\n",
    "customers['PROPORTION'] = customers['CUSTOMERS'] / total_customers * 100\n",
    "\n",
    "\n",
    "# Sort LIFESTAGE by total customers for better visualization order\n",
    "lifestage_order = (\n",
    "    customers.groupby('LIFESTAGE')['CUSTOMERS']\n",
    "    .sum()\n",
    "    .sort_values(ascending=False)\n",
    "    .index\n",
    "    .tolist()\n",
    ")\n",
    "\n",
    "# Convert 'LIFESTAGE' column to a Categorical type with the defined order\n",
    "customers['LIFESTAGE'] = pd.Categorical(\n",
    "    customers['LIFESTAGE'], categories=lifestage_order, ordered=True)\n",
    "\n",
    "# Sort the DataFrame by the ordered 'LIFESTAGE'\n",
    "customers = customers.sort_values('LIFESTAGE')\n",
    "\n",
    "\n",
    "# Create Stacked Bar Chart using Plotly Express\n",
    "fig = px.bar(\n",
    "    customers,\n",
    "    x='LIFESTAGE',\n",
    "    y='PROPORTION',\n",
    "    color='PREMIUM_CUSTOMER',\n",
    "\n",
    "    text=customers['PROPORTION'].round(1).astype(str) + '%',\n",
    "    title='Proportion of Customers by Lifestage and Premium Customer Flag',\n",
    "\n",
    "    labels={\n",
    "        'PROPORTION': 'Proportion of Customers (%)',\n",
    "        'LIFESTAGE': 'Lifestage',\n",
    "        'PREMIUM_CUSTOMER': 'Customer Segment'\n",
    "    },\n",
    "    color_discrete_sequence=['#1f77b4', '#ff7f0e', '#2ca02c'],\n",
    "    height=600,\n",
    "    width=1000\n",
    ")\n",
    "\n",
    "# Customize layout\n",
    "fig.update_traces(textposition='inside')\n",
    "fig.update_layout(\n",
    "    barmode='stack',\n",
    "    xaxis_title='Lifestage',\n",
    "    yaxis_title='Customer Segment Percentage [%]',\n",
    "    legend_title='Customer Segment',\n",
    ")\n",
    "\n",
    "fig.update_layout(\n",
    "    updatemenus=[\n",
    "        dict(\n",
    "            buttons=[\n",
    "                dict(\n",
    "                    label=\"All\",\n",
    "                    method=\"restyle\",\n",
    "                    args=[{\"visible\": [True] *\n",
    "                           len(customers['PREMIUM_CUSTOMER'].unique())}]\n",
    "                ),\n",
    "                *[\n",
    "                    dict(label=customer,\n",
    "                         method=\"restyle\",\n",
    "                         args=[\n",
    "                             {\"visible\": [customer == val for val in customers['PREMIUM_CUSTOMER']]}]\n",
    "                         )\n",
    "                    for customer in customers['PREMIUM_CUSTOMER'].unique()\n",
    "                ]\n",
    "            ],\n",
    "            direction=\"down\",\n",
    "            showactive=True,\n",
    "            x=1.02,\n",
    "            y=0.75,\n",
    "            xanchor='left',\n",
    "            yanchor='top'\n",
    "        )\n",
    "    ]\n",
    ")\n",
    "\n",
    "plt.savefig('./Quantium/Proportion of Customers.png')\n",
    "fig.show()"
   ]
  },
  {
   "cell_type": "markdown",
   "id": "57218a1c",
   "metadata": {},
   "source": [
    "### What's the Average number of units per customer by LIFESTAGE and PREMIUM_CUSTOMER"
   ]
  },
  {
   "cell_type": "code",
   "execution_count": 26,
   "id": "2b6d0b37",
   "metadata": {},
   "outputs": [
    {
     "data": {
      "text/html": [
       "<div>\n",
       "<style scoped>\n",
       "    .dataframe tbody tr th:only-of-type {\n",
       "        vertical-align: middle;\n",
       "    }\n",
       "\n",
       "    .dataframe tbody tr th {\n",
       "        vertical-align: top;\n",
       "    }\n",
       "\n",
       "    .dataframe thead th {\n",
       "        text-align: right;\n",
       "    }\n",
       "</style>\n",
       "<table border=\"1\" class=\"dataframe\">\n",
       "  <thead>\n",
       "    <tr style=\"text-align: right;\">\n",
       "      <th></th>\n",
       "      <th></th>\n",
       "      <th>AVG_UNITS</th>\n",
       "      <th>UNIQUE_CUSTOMERS</th>\n",
       "      <th>AVG_PROD_QTY</th>\n",
       "    </tr>\n",
       "    <tr>\n",
       "      <th>PREMIUM_CUSTOMER</th>\n",
       "      <th>LIFESTAGE</th>\n",
       "      <th></th>\n",
       "      <th></th>\n",
       "      <th></th>\n",
       "    </tr>\n",
       "  </thead>\n",
       "  <tbody>\n",
       "    <tr>\n",
       "      <th>Mainstream</th>\n",
       "      <th>OLDER FAMILIES</th>\n",
       "      <td>25804</td>\n",
       "      <td>2788</td>\n",
       "      <td>9.26</td>\n",
       "    </tr>\n",
       "    <tr>\n",
       "      <th>Budget</th>\n",
       "      <th>OLDER FAMILIES</th>\n",
       "      <td>41853</td>\n",
       "      <td>4611</td>\n",
       "      <td>9.08</td>\n",
       "    </tr>\n",
       "    <tr>\n",
       "      <th>Premium</th>\n",
       "      <th>OLDER FAMILIES</th>\n",
       "      <td>20239</td>\n",
       "      <td>2231</td>\n",
       "      <td>9.07</td>\n",
       "    </tr>\n",
       "    <tr>\n",
       "      <th>Budget</th>\n",
       "      <th>YOUNG FAMILIES</th>\n",
       "      <td>34482</td>\n",
       "      <td>3953</td>\n",
       "      <td>8.72</td>\n",
       "    </tr>\n",
       "    <tr>\n",
       "      <th>Premium</th>\n",
       "      <th>YOUNG FAMILIES</th>\n",
       "      <td>20901</td>\n",
       "      <td>2398</td>\n",
       "      <td>8.72</td>\n",
       "    </tr>\n",
       "    <tr>\n",
       "      <th>Mainstream</th>\n",
       "      <th>YOUNG FAMILIES</th>\n",
       "      <td>23194</td>\n",
       "      <td>2685</td>\n",
       "      <td>8.64</td>\n",
       "    </tr>\n",
       "    <tr>\n",
       "      <th>Budget</th>\n",
       "      <th>OLDER SINGLES/COUPLES</th>\n",
       "      <td>32883</td>\n",
       "      <td>4849</td>\n",
       "      <td>6.78</td>\n",
       "    </tr>\n",
       "    <tr>\n",
       "      <th>Premium</th>\n",
       "      <th>OLDER SINGLES/COUPLES</th>\n",
       "      <td>31695</td>\n",
       "      <td>4682</td>\n",
       "      <td>6.77</td>\n",
       "    </tr>\n",
       "    <tr>\n",
       "      <th rowspan=\"2\" valign=\"top\">Mainstream</th>\n",
       "      <th>OLDER SINGLES/COUPLES</th>\n",
       "      <td>32607</td>\n",
       "      <td>4858</td>\n",
       "      <td>6.71</td>\n",
       "    </tr>\n",
       "    <tr>\n",
       "      <th>MIDAGE SINGLES/COUPLES</th>\n",
       "      <td>21213</td>\n",
       "      <td>3298</td>\n",
       "      <td>6.43</td>\n",
       "    </tr>\n",
       "    <tr>\n",
       "      <th>Budget</th>\n",
       "      <th>RETIREES</th>\n",
       "      <td>26932</td>\n",
       "      <td>4385</td>\n",
       "      <td>6.14</td>\n",
       "    </tr>\n",
       "    <tr>\n",
       "      <th rowspan=\"2\" valign=\"top\">Premium</th>\n",
       "      <th>RETIREES</th>\n",
       "      <td>23266</td>\n",
       "      <td>3812</td>\n",
       "      <td>6.10</td>\n",
       "    </tr>\n",
       "    <tr>\n",
       "      <th>MIDAGE SINGLES/COUPLES</th>\n",
       "      <td>14400</td>\n",
       "      <td>2369</td>\n",
       "      <td>6.08</td>\n",
       "    </tr>\n",
       "    <tr>\n",
       "      <th>Budget</th>\n",
       "      <th>MIDAGE SINGLES/COUPLES</th>\n",
       "      <td>8883</td>\n",
       "      <td>1474</td>\n",
       "      <td>6.03</td>\n",
       "    </tr>\n",
       "    <tr>\n",
       "      <th rowspan=\"2\" valign=\"top\">Mainstream</th>\n",
       "      <th>RETIREES</th>\n",
       "      <td>37677</td>\n",
       "      <td>6358</td>\n",
       "      <td>5.93</td>\n",
       "    </tr>\n",
       "    <tr>\n",
       "      <th>NEW FAMILIES</th>\n",
       "      <td>4060</td>\n",
       "      <td>830</td>\n",
       "      <td>4.89</td>\n",
       "    </tr>\n",
       "    <tr>\n",
       "      <th>Budget</th>\n",
       "      <th>NEW FAMILIES</th>\n",
       "      <td>5241</td>\n",
       "      <td>1087</td>\n",
       "      <td>4.82</td>\n",
       "    </tr>\n",
       "    <tr>\n",
       "      <th>Premium</th>\n",
       "      <th>NEW FAMILIES</th>\n",
       "      <td>2769</td>\n",
       "      <td>575</td>\n",
       "      <td>4.82</td>\n",
       "    </tr>\n",
       "    <tr>\n",
       "      <th>Mainstream</th>\n",
       "      <th>YOUNG SINGLES/COUPLES</th>\n",
       "      <td>36225</td>\n",
       "      <td>7917</td>\n",
       "      <td>4.58</td>\n",
       "    </tr>\n",
       "    <tr>\n",
       "      <th>Premium</th>\n",
       "      <th>YOUNG SINGLES/COUPLES</th>\n",
       "      <td>10575</td>\n",
       "      <td>2480</td>\n",
       "      <td>4.26</td>\n",
       "    </tr>\n",
       "    <tr>\n",
       "      <th>Budget</th>\n",
       "      <th>YOUNG SINGLES/COUPLES</th>\n",
       "      <td>15500</td>\n",
       "      <td>3647</td>\n",
       "      <td>4.25</td>\n",
       "    </tr>\n",
       "  </tbody>\n",
       "</table>\n",
       "</div>"
      ],
      "text/plain": [
       "                                         AVG_UNITS  UNIQUE_CUSTOMERS  \\\n",
       "PREMIUM_CUSTOMER LIFESTAGE                                             \n",
       "Mainstream       OLDER FAMILIES              25804              2788   \n",
       "Budget           OLDER FAMILIES              41853              4611   \n",
       "Premium          OLDER FAMILIES              20239              2231   \n",
       "Budget           YOUNG FAMILIES              34482              3953   \n",
       "Premium          YOUNG FAMILIES              20901              2398   \n",
       "Mainstream       YOUNG FAMILIES              23194              2685   \n",
       "Budget           OLDER SINGLES/COUPLES       32883              4849   \n",
       "Premium          OLDER SINGLES/COUPLES       31695              4682   \n",
       "Mainstream       OLDER SINGLES/COUPLES       32607              4858   \n",
       "                 MIDAGE SINGLES/COUPLES      21213              3298   \n",
       "Budget           RETIREES                    26932              4385   \n",
       "Premium          RETIREES                    23266              3812   \n",
       "                 MIDAGE SINGLES/COUPLES      14400              2369   \n",
       "Budget           MIDAGE SINGLES/COUPLES       8883              1474   \n",
       "Mainstream       RETIREES                    37677              6358   \n",
       "                 NEW FAMILIES                 4060               830   \n",
       "Budget           NEW FAMILIES                 5241              1087   \n",
       "Premium          NEW FAMILIES                 2769               575   \n",
       "Mainstream       YOUNG SINGLES/COUPLES       36225              7917   \n",
       "Premium          YOUNG SINGLES/COUPLES       10575              2480   \n",
       "Budget           YOUNG SINGLES/COUPLES       15500              3647   \n",
       "\n",
       "                                         AVG_PROD_QTY  \n",
       "PREMIUM_CUSTOMER LIFESTAGE                             \n",
       "Mainstream       OLDER FAMILIES                  9.26  \n",
       "Budget           OLDER FAMILIES                  9.08  \n",
       "Premium          OLDER FAMILIES                  9.07  \n",
       "Budget           YOUNG FAMILIES                  8.72  \n",
       "Premium          YOUNG FAMILIES                  8.72  \n",
       "Mainstream       YOUNG FAMILIES                  8.64  \n",
       "Budget           OLDER SINGLES/COUPLES           6.78  \n",
       "Premium          OLDER SINGLES/COUPLES           6.77  \n",
       "Mainstream       OLDER SINGLES/COUPLES           6.71  \n",
       "                 MIDAGE SINGLES/COUPLES          6.43  \n",
       "Budget           RETIREES                        6.14  \n",
       "Premium          RETIREES                        6.10  \n",
       "                 MIDAGE SINGLES/COUPLES          6.08  \n",
       "Budget           MIDAGE SINGLES/COUPLES          6.03  \n",
       "Mainstream       RETIREES                        5.93  \n",
       "                 NEW FAMILIES                    4.89  \n",
       "Budget           NEW FAMILIES                    4.82  \n",
       "Premium          NEW FAMILIES                    4.82  \n",
       "Mainstream       YOUNG SINGLES/COUPLES           4.58  \n",
       "Premium          YOUNG SINGLES/COUPLES           4.26  \n",
       "Budget           YOUNG SINGLES/COUPLES           4.25  "
      ]
     },
     "execution_count": 26,
     "metadata": {},
     "output_type": "execute_result"
    }
   ],
   "source": [
    "# Average number of units per customer by LIFESTAGE and PREMIUM_CUSTOMER\n",
    "avg_unit_by_segment = (\n",
    "    data.groupby(['PREMIUM_CUSTOMER', 'LIFESTAGE'])\n",
    "    .agg(AVG_UNITS=('PROD_QTY', 'sum'), UNIQUE_CUSTOMERS=('LYLTY_CARD_NBR', pd.Series.nunique))\n",
    "    .assign(AVG_PROD_QTY=lambda df: (df['AVG_UNITS'] / df['UNIQUE_CUSTOMERS']).round(2))\n",
    "    .sort_values(by='AVG_PROD_QTY', ascending=False)\n",
    ")\n",
    "avg_unit_by_segment\n"
   ]
  },
  {
   "cell_type": "code",
   "execution_count": 27,
   "id": "fe91a628",
   "metadata": {},
   "outputs": [
    {
     "data": {
      "image/png": "[encoded data removed]",
      "text/plain": [
       "<Figure size 1200x600 with 1 Axes>"
      ]
     },
     "metadata": {},
     "output_type": "display_data"
    }
   ],
   "source": [
    "# Create grouped bar plot\n",
    "plt.figure(figsize=(12, 6))\n",
    "sns.barplot(data=avg_unit_by_segment, \n",
    "            x='LIFESTAGE', \n",
    "            y='AVG_PROD_QTY', \n",
    "            hue='PREMIUM_CUSTOMER')\n",
    "\n",
    "# Customize the plot\n",
    "plt.title(\"Units per Customer by Lifestage and Customer Segment\")\n",
    "plt.ylabel(\"Average Units per Customer segment\")\n",
    "plt.xticks(rotation=45, ha='right')\n",
    "plt.savefig('./Quantium/Units per Liftage and customer segment.png')\n",
    "plt.show();"
   ]
  },
  {
   "cell_type": "markdown",
   "id": "20393bf1",
   "metadata": {},
   "source": [
    "### What's the average chip price by customer segment (Average price per unit by LIFESTAGE and PREMIUM_CUSTOMER)"
   ]
  },
  {
   "cell_type": "code",
   "execution_count": 28,
   "id": "41c91893",
   "metadata": {},
   "outputs": [
    {
     "data": {
      "text/html": [
       "<div>\n",
       "<style scoped>\n",
       "    .dataframe tbody tr th:only-of-type {\n",
       "        vertical-align: middle;\n",
       "    }\n",
       "\n",
       "    .dataframe tbody tr th {\n",
       "        vertical-align: top;\n",
       "    }\n",
       "\n",
       "    .dataframe thead th {\n",
       "        text-align: right;\n",
       "    }\n",
       "</style>\n",
       "<table border=\"1\" class=\"dataframe\">\n",
       "  <thead>\n",
       "    <tr style=\"text-align: right;\">\n",
       "      <th></th>\n",
       "      <th></th>\n",
       "      <th>AVG_UNITS</th>\n",
       "      <th>TOTAL_SALES</th>\n",
       "      <th>AVG_CHIP_PRICE</th>\n",
       "    </tr>\n",
       "    <tr>\n",
       "      <th>LIFESTAGE</th>\n",
       "      <th>PREMIUM_CUSTOMER</th>\n",
       "      <th></th>\n",
       "      <th></th>\n",
       "      <th></th>\n",
       "    </tr>\n",
       "  </thead>\n",
       "  <tbody>\n",
       "    <tr>\n",
       "      <th>YOUNG SINGLES/COUPLES</th>\n",
       "      <th>Mainstream</th>\n",
       "      <td>36225</td>\n",
       "      <td>147582.20</td>\n",
       "      <td>4.07</td>\n",
       "    </tr>\n",
       "    <tr>\n",
       "      <th>MIDAGE SINGLES/COUPLES</th>\n",
       "      <th>Mainstream</th>\n",
       "      <td>21213</td>\n",
       "      <td>84734.25</td>\n",
       "      <td>3.99</td>\n",
       "    </tr>\n",
       "    <tr>\n",
       "      <th>NEW FAMILIES</th>\n",
       "      <th>Mainstream</th>\n",
       "      <td>4060</td>\n",
       "      <td>15979.70</td>\n",
       "      <td>3.94</td>\n",
       "    </tr>\n",
       "    <tr>\n",
       "      <th>RETIREES</th>\n",
       "      <th>Budget</th>\n",
       "      <td>26932</td>\n",
       "      <td>105916.30</td>\n",
       "      <td>3.93</td>\n",
       "    </tr>\n",
       "    <tr>\n",
       "      <th>NEW FAMILIES</th>\n",
       "      <th>Budget</th>\n",
       "      <td>5241</td>\n",
       "      <td>20607.45</td>\n",
       "      <td>3.93</td>\n",
       "    </tr>\n",
       "    <tr>\n",
       "      <th>RETIREES</th>\n",
       "      <th>Premium</th>\n",
       "      <td>23266</td>\n",
       "      <td>91296.65</td>\n",
       "      <td>3.92</td>\n",
       "    </tr>\n",
       "    <tr>\n",
       "      <th>OLDER SINGLES/COUPLES</th>\n",
       "      <th>Premium</th>\n",
       "      <td>31695</td>\n",
       "      <td>123537.55</td>\n",
       "      <td>3.90</td>\n",
       "    </tr>\n",
       "    <tr>\n",
       "      <th>NEW FAMILIES</th>\n",
       "      <th>Premium</th>\n",
       "      <td>2769</td>\n",
       "      <td>10760.80</td>\n",
       "      <td>3.89</td>\n",
       "    </tr>\n",
       "    <tr>\n",
       "      <th>OLDER SINGLES/COUPLES</th>\n",
       "      <th>Budget</th>\n",
       "      <td>32883</td>\n",
       "      <td>127833.60</td>\n",
       "      <td>3.89</td>\n",
       "    </tr>\n",
       "    <tr>\n",
       "      <th>RETIREES</th>\n",
       "      <th>Mainstream</th>\n",
       "      <td>37677</td>\n",
       "      <td>145168.95</td>\n",
       "      <td>3.85</td>\n",
       "    </tr>\n",
       "    <tr>\n",
       "      <th>OLDER SINGLES/COUPLES</th>\n",
       "      <th>Mainstream</th>\n",
       "      <td>32607</td>\n",
       "      <td>124648.50</td>\n",
       "      <td>3.82</td>\n",
       "    </tr>\n",
       "    <tr>\n",
       "      <th>MIDAGE SINGLES/COUPLES</th>\n",
       "      <th>Premium</th>\n",
       "      <td>14400</td>\n",
       "      <td>54443.85</td>\n",
       "      <td>3.78</td>\n",
       "    </tr>\n",
       "    <tr>\n",
       "      <th rowspan=\"2\" valign=\"top\">YOUNG FAMILIES</th>\n",
       "      <th>Premium</th>\n",
       "      <td>20901</td>\n",
       "      <td>78571.70</td>\n",
       "      <td>3.76</td>\n",
       "    </tr>\n",
       "    <tr>\n",
       "      <th>Budget</th>\n",
       "      <td>34482</td>\n",
       "      <td>129717.95</td>\n",
       "      <td>3.76</td>\n",
       "    </tr>\n",
       "    <tr>\n",
       "      <th>MIDAGE SINGLES/COUPLES</th>\n",
       "      <th>Budget</th>\n",
       "      <td>8883</td>\n",
       "      <td>33345.70</td>\n",
       "      <td>3.75</td>\n",
       "    </tr>\n",
       "    <tr>\n",
       "      <th rowspan=\"3\" valign=\"top\">OLDER FAMILIES</th>\n",
       "      <th>Budget</th>\n",
       "      <td>41853</td>\n",
       "      <td>156863.75</td>\n",
       "      <td>3.75</td>\n",
       "    </tr>\n",
       "    <tr>\n",
       "      <th>Mainstream</th>\n",
       "      <td>25804</td>\n",
       "      <td>96413.55</td>\n",
       "      <td>3.74</td>\n",
       "    </tr>\n",
       "    <tr>\n",
       "      <th>Premium</th>\n",
       "      <td>20239</td>\n",
       "      <td>75242.60</td>\n",
       "      <td>3.72</td>\n",
       "    </tr>\n",
       "    <tr>\n",
       "      <th>YOUNG FAMILIES</th>\n",
       "      <th>Mainstream</th>\n",
       "      <td>23194</td>\n",
       "      <td>86338.25</td>\n",
       "      <td>3.72</td>\n",
       "    </tr>\n",
       "    <tr>\n",
       "      <th rowspan=\"2\" valign=\"top\">YOUNG SINGLES/COUPLES</th>\n",
       "      <th>Budget</th>\n",
       "      <td>15500</td>\n",
       "      <td>57122.10</td>\n",
       "      <td>3.69</td>\n",
       "    </tr>\n",
       "    <tr>\n",
       "      <th>Premium</th>\n",
       "      <td>10575</td>\n",
       "      <td>39052.30</td>\n",
       "      <td>3.69</td>\n",
       "    </tr>\n",
       "  </tbody>\n",
       "</table>\n",
       "</div>"
      ],
      "text/plain": [
       "                                         AVG_UNITS  TOTAL_SALES  \\\n",
       "LIFESTAGE              PREMIUM_CUSTOMER                           \n",
       "YOUNG SINGLES/COUPLES  Mainstream            36225    147582.20   \n",
       "MIDAGE SINGLES/COUPLES Mainstream            21213     84734.25   \n",
       "NEW FAMILIES           Mainstream             4060     15979.70   \n",
       "RETIREES               Budget                26932    105916.30   \n",
       "NEW FAMILIES           Budget                 5241     20607.45   \n",
       "RETIREES               Premium               23266     91296.65   \n",
       "OLDER SINGLES/COUPLES  Premium               31695    123537.55   \n",
       "NEW FAMILIES           Premium                2769     10760.80   \n",
       "OLDER SINGLES/COUPLES  Budget                32883    127833.60   \n",
       "RETIREES               Mainstream            37677    145168.95   \n",
       "OLDER SINGLES/COUPLES  Mainstream            32607    124648.50   \n",
       "MIDAGE SINGLES/COUPLES Premium               14400     54443.85   \n",
       "YOUNG FAMILIES         Premium               20901     78571.70   \n",
       "                       Budget                34482    129717.95   \n",
       "MIDAGE SINGLES/COUPLES Budget                 8883     33345.70   \n",
       "OLDER FAMILIES         Budget                41853    156863.75   \n",
       "                       Mainstream            25804     96413.55   \n",
       "                       Premium               20239     75242.60   \n",
       "YOUNG FAMILIES         Mainstream            23194     86338.25   \n",
       "YOUNG SINGLES/COUPLES  Budget                15500     57122.10   \n",
       "                       Premium               10575     39052.30   \n",
       "\n",
       "                                         AVG_CHIP_PRICE  \n",
       "LIFESTAGE              PREMIUM_CUSTOMER                  \n",
       "YOUNG SINGLES/COUPLES  Mainstream                  4.07  \n",
       "MIDAGE SINGLES/COUPLES Mainstream                  3.99  \n",
       "NEW FAMILIES           Mainstream                  3.94  \n",
       "RETIREES               Budget                      3.93  \n",
       "NEW FAMILIES           Budget                      3.93  \n",
       "RETIREES               Premium                     3.92  \n",
       "OLDER SINGLES/COUPLES  Premium                     3.90  \n",
       "NEW FAMILIES           Premium                     3.89  \n",
       "OLDER SINGLES/COUPLES  Budget                      3.89  \n",
       "RETIREES               Mainstream                  3.85  \n",
       "OLDER SINGLES/COUPLES  Mainstream                  3.82  \n",
       "MIDAGE SINGLES/COUPLES Premium                     3.78  \n",
       "YOUNG FAMILIES         Premium                     3.76  \n",
       "                       Budget                      3.76  \n",
       "MIDAGE SINGLES/COUPLES Budget                      3.75  \n",
       "OLDER FAMILIES         Budget                      3.75  \n",
       "                       Mainstream                  3.74  \n",
       "                       Premium                     3.72  \n",
       "YOUNG FAMILIES         Mainstream                  3.72  \n",
       "YOUNG SINGLES/COUPLES  Budget                      3.69  \n",
       "                       Premium                     3.69  "
      ]
     },
     "execution_count": 28,
     "metadata": {},
     "output_type": "execute_result"
    }
   ],
   "source": [
    "avg_chip_price_by_segment = (\n",
    "    data.groupby(['LIFESTAGE', 'PREMIUM_CUSTOMER'])\n",
    "    .agg(AVG_UNITS=('PROD_QTY', 'sum'), TOTAL_SALES=('TOT_SALES', 'sum'))\n",
    "    .assign(AVG_CHIP_PRICE=lambda df: (df['TOTAL_SALES'] / df['AVG_UNITS']).round(2))\n",
    "    .sort_values(by='AVG_CHIP_PRICE', ascending=False)\n",
    ")\n",
    "avg_chip_price_by_segment"
   ]
  },
  {
   "cell_type": "code",
   "execution_count": 29,
   "id": "737e4d71",
   "metadata": {},
   "outputs": [
    {
     "data": {
      "image/png": "[encoded data removed]",
      "text/plain": [
       "<Figure size 1200x600 with 1 Axes>"
      ]
     },
     "metadata": {},
     "output_type": "display_data"
    }
   ],
   "source": [
    "# Create grouped bar plot\n",
    "plt.figure(figsize=(12, 6))\n",
    "sns.barplot(data=avg_chip_price_by_segment, \n",
    "            x='LIFESTAGE', \n",
    "            y='AVG_CHIP_PRICE', \n",
    "            hue='PREMIUM_CUSTOMER')\n",
    "\n",
    "# Customize the plot\n",
    "plt.title(\"Price Per Unit\")\n",
    "plt.ylabel(\"Average price per unit\")\n",
    "plt.xticks(rotation=45, ha='right')\n",
    "plt.savefig('./Quantium/Average price per unit.png')\n",
    "plt.show();"
   ]
  },
  {
   "cell_type": "code",
   "execution_count": 30,
   "id": "2421957b",
   "metadata": {},
   "outputs": [
    {
     "data": {
      "text/html": [
       "<div>\n",
       "<style scoped>\n",
       "    .dataframe tbody tr th:only-of-type {\n",
       "        vertical-align: middle;\n",
       "    }\n",
       "\n",
       "    .dataframe tbody tr th {\n",
       "        vertical-align: top;\n",
       "    }\n",
       "\n",
       "    .dataframe thead th {\n",
       "        text-align: right;\n",
       "    }\n",
       "</style>\n",
       "<table border=\"1\" class=\"dataframe\">\n",
       "  <thead>\n",
       "    <tr style=\"text-align: right;\">\n",
       "      <th></th>\n",
       "      <th>TOTAL_SPEND</th>\n",
       "    </tr>\n",
       "    <tr>\n",
       "      <th>LIFESTAGE</th>\n",
       "      <th></th>\n",
       "    </tr>\n",
       "  </thead>\n",
       "  <tbody>\n",
       "    <tr>\n",
       "      <th>OLDER SINGLES/COUPLES</th>\n",
       "      <td>376019.65</td>\n",
       "    </tr>\n",
       "    <tr>\n",
       "      <th>RETIREES</th>\n",
       "      <td>342381.90</td>\n",
       "    </tr>\n",
       "    <tr>\n",
       "      <th>OLDER FAMILIES</th>\n",
       "      <td>328519.90</td>\n",
       "    </tr>\n",
       "    <tr>\n",
       "      <th>YOUNG FAMILIES</th>\n",
       "      <td>294627.90</td>\n",
       "    </tr>\n",
       "    <tr>\n",
       "      <th>YOUNG SINGLES/COUPLES</th>\n",
       "      <td>243756.60</td>\n",
       "    </tr>\n",
       "  </tbody>\n",
       "</table>\n",
       "</div>"
      ],
      "text/plain": [
       "                       TOTAL_SPEND\n",
       "LIFESTAGE                         \n",
       "OLDER SINGLES/COUPLES    376019.65\n",
       "RETIREES                 342381.90\n",
       "OLDER FAMILIES           328519.90\n",
       "YOUNG FAMILIES           294627.90\n",
       "YOUNG SINGLES/COUPLES    243756.60"
      ]
     },
     "execution_count": 30,
     "metadata": {},
     "output_type": "execute_result"
    }
   ],
   "source": [
    "## Most Valueable Customers\n",
    "top_five_customer = data.groupby([ 'LIFESTAGE']).agg(TOTAL_SPEND=('TOT_SALES', 'sum')).sort_values(by=\"TOTAL_SPEND\", ascending=False).head()\n",
    "top_five_customer\n",
    "# data.groupby(['LYLTY_CARD_NBR', 'PREMIUM_CUSTOMER', 'LIFESTAGE']).agg(TOTAL_SPEND=('PROD_QTY', 'sum')).sort_values(by=\"TOTAL_SPEND\", ascending=False).head()"
   ]
  },
  {
   "cell_type": "markdown",
   "id": "b4cd9e2c",
   "metadata": {},
   "source": [
    "Computes affinity score:\n",
    "\n",
    "$\\text{Affinity} = \\frac{\\text{Target Segment Share}}{\\text{Other Segment Share}}$\n",
    "​\n",
    " \n",
    "Values > 1: brand is overrepresented in the segment\n",
    "\n",
    "Values < 1: brand is less popular in the segment"
   ]
  },
  {
   "cell_type": "code",
   "execution_count": 31,
   "id": "e507505e",
   "metadata": {},
   "outputs": [
    {
     "data": {
      "text/html": [
       "<div>\n",
       "<style scoped>\n",
       "    .dataframe tbody tr th:only-of-type {\n",
       "        vertical-align: middle;\n",
       "    }\n",
       "\n",
       "    .dataframe tbody tr th {\n",
       "        vertical-align: top;\n",
       "    }\n",
       "\n",
       "    .dataframe thead th {\n",
       "        text-align: right;\n",
       "    }\n",
       "</style>\n",
       "<table border=\"1\" class=\"dataframe\">\n",
       "  <thead>\n",
       "    <tr style=\"text-align: right;\">\n",
       "      <th></th>\n",
       "      <th>DATE</th>\n",
       "      <th>STORE_NBR</th>\n",
       "      <th>LYLTY_CARD_NBR</th>\n",
       "      <th>TXN_ID</th>\n",
       "      <th>PROD_NBR</th>\n",
       "      <th>PROD_NAME</th>\n",
       "      <th>PROD_QTY</th>\n",
       "      <th>TOT_SALES</th>\n",
       "      <th>PACK_SIZE</th>\n",
       "      <th>BRAND_NAME</th>\n",
       "      <th>LIFESTAGE</th>\n",
       "      <th>PREMIUM_CUSTOMER</th>\n",
       "    </tr>\n",
       "  </thead>\n",
       "  <tbody>\n",
       "    <tr>\n",
       "      <th>0</th>\n",
       "      <td>2018-10-17</td>\n",
       "      <td>1</td>\n",
       "      <td>1000</td>\n",
       "      <td>1</td>\n",
       "      <td>5</td>\n",
       "      <td>Natural Chip        Compny SeaSalt175g</td>\n",
       "      <td>2</td>\n",
       "      <td>6.0</td>\n",
       "      <td>175</td>\n",
       "      <td>Natural</td>\n",
       "      <td>YOUNG SINGLES/COUPLES</td>\n",
       "      <td>Premium</td>\n",
       "    </tr>\n",
       "    <tr>\n",
       "      <th>1</th>\n",
       "      <td>2019-05-14</td>\n",
       "      <td>1</td>\n",
       "      <td>1307</td>\n",
       "      <td>348</td>\n",
       "      <td>66</td>\n",
       "      <td>CCs Nacho Cheese    175g</td>\n",
       "      <td>3</td>\n",
       "      <td>6.3</td>\n",
       "      <td>175</td>\n",
       "      <td>CCs</td>\n",
       "      <td>MIDAGE SINGLES/COUPLES</td>\n",
       "      <td>Budget</td>\n",
       "    </tr>\n",
       "    <tr>\n",
       "      <th>2</th>\n",
       "      <td>2019-05-20</td>\n",
       "      <td>1</td>\n",
       "      <td>1343</td>\n",
       "      <td>383</td>\n",
       "      <td>61</td>\n",
       "      <td>Smiths Crinkle Cut  Chips Chicken 170g</td>\n",
       "      <td>2</td>\n",
       "      <td>2.9</td>\n",
       "      <td>170</td>\n",
       "      <td>Smiths</td>\n",
       "      <td>MIDAGE SINGLES/COUPLES</td>\n",
       "      <td>Budget</td>\n",
       "    </tr>\n",
       "    <tr>\n",
       "      <th>3</th>\n",
       "      <td>2018-08-17</td>\n",
       "      <td>2</td>\n",
       "      <td>2373</td>\n",
       "      <td>974</td>\n",
       "      <td>69</td>\n",
       "      <td>Smiths Chip Thinly  S/Cream&amp;Onion 175g</td>\n",
       "      <td>5</td>\n",
       "      <td>15.0</td>\n",
       "      <td>175</td>\n",
       "      <td>Smiths</td>\n",
       "      <td>MIDAGE SINGLES/COUPLES</td>\n",
       "      <td>Budget</td>\n",
       "    </tr>\n",
       "    <tr>\n",
       "      <th>4</th>\n",
       "      <td>2018-08-18</td>\n",
       "      <td>2</td>\n",
       "      <td>2426</td>\n",
       "      <td>1038</td>\n",
       "      <td>108</td>\n",
       "      <td>Kettle Tortilla ChpsHny&amp;Jlpno Chili 150g</td>\n",
       "      <td>3</td>\n",
       "      <td>13.8</td>\n",
       "      <td>150</td>\n",
       "      <td>Kettle</td>\n",
       "      <td>MIDAGE SINGLES/COUPLES</td>\n",
       "      <td>Budget</td>\n",
       "    </tr>\n",
       "  </tbody>\n",
       "</table>\n",
       "</div>"
      ],
      "text/plain": [
       "        DATE  STORE_NBR  LYLTY_CARD_NBR  TXN_ID  PROD_NBR  \\\n",
       "0 2018-10-17          1            1000       1         5   \n",
       "1 2019-05-14          1            1307     348        66   \n",
       "2 2019-05-20          1            1343     383        61   \n",
       "3 2018-08-17          2            2373     974        69   \n",
       "4 2018-08-18          2            2426    1038       108   \n",
       "\n",
       "                                  PROD_NAME  PROD_QTY  TOT_SALES  PACK_SIZE  \\\n",
       "0    Natural Chip        Compny SeaSalt175g         2        6.0        175   \n",
       "1                  CCs Nacho Cheese    175g         3        6.3        175   \n",
       "2    Smiths Crinkle Cut  Chips Chicken 170g         2        2.9        170   \n",
       "3    Smiths Chip Thinly  S/Cream&Onion 175g         5       15.0        175   \n",
       "4  Kettle Tortilla ChpsHny&Jlpno Chili 150g         3       13.8        150   \n",
       "\n",
       "  BRAND_NAME               LIFESTAGE PREMIUM_CUSTOMER  \n",
       "0    Natural   YOUNG SINGLES/COUPLES          Premium  \n",
       "1        CCs  MIDAGE SINGLES/COUPLES           Budget  \n",
       "2     Smiths  MIDAGE SINGLES/COUPLES           Budget  \n",
       "3     Smiths  MIDAGE SINGLES/COUPLES           Budget  \n",
       "4     Kettle  MIDAGE SINGLES/COUPLES           Budget  "
      ]
     },
     "execution_count": 31,
     "metadata": {},
     "output_type": "execute_result"
    }
   ],
   "source": [
    "young_singles_couples_mainstream = (data[\"LIFESTAGE\"] == \"YOUNG SINGLES/COUPLES\") & (data[\"PREMIUM_CUSTOMER\"] == \"Mainstream\")\n",
    "segment1 = data.loc[young_singles_couples_mainstream]\n",
    "other = data.loc[~young_singles_couples_mainstream]\n",
    "other.head()\n",
    "# segment1.head()"
   ]
  },
  {
   "cell_type": "code",
   "execution_count": 32,
   "id": "24c02db3",
   "metadata": {},
   "outputs": [
    {
     "data": {
      "text/html": [
       "<div>\n",
       "<style scoped>\n",
       "    .dataframe tbody tr th:only-of-type {\n",
       "        vertical-align: middle;\n",
       "    }\n",
       "\n",
       "    .dataframe tbody tr th {\n",
       "        vertical-align: top;\n",
       "    }\n",
       "\n",
       "    .dataframe thead th {\n",
       "        text-align: right;\n",
       "    }\n",
       "</style>\n",
       "<table border=\"1\" class=\"dataframe\">\n",
       "  <thead>\n",
       "    <tr style=\"text-align: right;\">\n",
       "      <th></th>\n",
       "      <th>BRAND_NAME</th>\n",
       "      <th>targetSegment</th>\n",
       "      <th>other</th>\n",
       "      <th>affinityToBrand</th>\n",
       "    </tr>\n",
       "  </thead>\n",
       "  <tbody>\n",
       "    <tr>\n",
       "      <th>1</th>\n",
       "      <td>Tyrrells</td>\n",
       "      <td>0.031553</td>\n",
       "      <td>0.025692</td>\n",
       "      <td>1.23</td>\n",
       "    </tr>\n",
       "    <tr>\n",
       "      <th>2</th>\n",
       "      <td>Twisties</td>\n",
       "      <td>0.046184</td>\n",
       "      <td>0.037877</td>\n",
       "      <td>1.22</td>\n",
       "    </tr>\n",
       "    <tr>\n",
       "      <th>3</th>\n",
       "      <td>Doritos</td>\n",
       "      <td>0.122761</td>\n",
       "      <td>0.101075</td>\n",
       "      <td>1.21</td>\n",
       "    </tr>\n",
       "    <tr>\n",
       "      <th>4</th>\n",
       "      <td>Kettle</td>\n",
       "      <td>0.197985</td>\n",
       "      <td>0.165553</td>\n",
       "      <td>1.20</td>\n",
       "    </tr>\n",
       "    <tr>\n",
       "      <th>5</th>\n",
       "      <td>Tostitos</td>\n",
       "      <td>0.045411</td>\n",
       "      <td>0.037978</td>\n",
       "      <td>1.20</td>\n",
       "    </tr>\n",
       "    <tr>\n",
       "      <th>6</th>\n",
       "      <td>Pringles</td>\n",
       "      <td>0.119420</td>\n",
       "      <td>0.100635</td>\n",
       "      <td>1.19</td>\n",
       "    </tr>\n",
       "    <tr>\n",
       "      <th>7</th>\n",
       "      <td>Cobs</td>\n",
       "      <td>0.044638</td>\n",
       "      <td>0.039049</td>\n",
       "      <td>1.14</td>\n",
       "    </tr>\n",
       "    <tr>\n",
       "      <th>8</th>\n",
       "      <td>Infuzions</td>\n",
       "      <td>0.064679</td>\n",
       "      <td>0.057065</td>\n",
       "      <td>1.13</td>\n",
       "    </tr>\n",
       "    <tr>\n",
       "      <th>9</th>\n",
       "      <td>Thins</td>\n",
       "      <td>0.060373</td>\n",
       "      <td>0.056986</td>\n",
       "      <td>1.06</td>\n",
       "    </tr>\n",
       "    <tr>\n",
       "      <th>10</th>\n",
       "      <td>GrnWaves</td>\n",
       "      <td>0.032712</td>\n",
       "      <td>0.031188</td>\n",
       "      <td>1.05</td>\n",
       "    </tr>\n",
       "    <tr>\n",
       "      <th>11</th>\n",
       "      <td>Cheezels</td>\n",
       "      <td>0.017971</td>\n",
       "      <td>0.018647</td>\n",
       "      <td>0.96</td>\n",
       "    </tr>\n",
       "    <tr>\n",
       "      <th>12</th>\n",
       "      <td>Smiths</td>\n",
       "      <td>0.089772</td>\n",
       "      <td>0.112215</td>\n",
       "      <td>0.80</td>\n",
       "    </tr>\n",
       "    <tr>\n",
       "      <th>13</th>\n",
       "      <td>French</td>\n",
       "      <td>0.003948</td>\n",
       "      <td>0.005758</td>\n",
       "      <td>0.69</td>\n",
       "    </tr>\n",
       "    <tr>\n",
       "      <th>14</th>\n",
       "      <td>Cheetos</td>\n",
       "      <td>0.008033</td>\n",
       "      <td>0.012067</td>\n",
       "      <td>0.67</td>\n",
       "    </tr>\n",
       "    <tr>\n",
       "      <th>15</th>\n",
       "      <td>RRD</td>\n",
       "      <td>0.043810</td>\n",
       "      <td>0.067494</td>\n",
       "      <td>0.65</td>\n",
       "    </tr>\n",
       "    <tr>\n",
       "      <th>16</th>\n",
       "      <td>Natural</td>\n",
       "      <td>0.019600</td>\n",
       "      <td>0.030854</td>\n",
       "      <td>0.64</td>\n",
       "    </tr>\n",
       "    <tr>\n",
       "      <th>17</th>\n",
       "      <td>CCs</td>\n",
       "      <td>0.011180</td>\n",
       "      <td>0.018896</td>\n",
       "      <td>0.59</td>\n",
       "    </tr>\n",
       "    <tr>\n",
       "      <th>18</th>\n",
       "      <td>Smith</td>\n",
       "      <td>0.006598</td>\n",
       "      <td>0.012368</td>\n",
       "      <td>0.53</td>\n",
       "    </tr>\n",
       "    <tr>\n",
       "      <th>19</th>\n",
       "      <td>Sunbites</td>\n",
       "      <td>0.006349</td>\n",
       "      <td>0.012580</td>\n",
       "      <td>0.50</td>\n",
       "    </tr>\n",
       "    <tr>\n",
       "      <th>20</th>\n",
       "      <td>Woolworths</td>\n",
       "      <td>0.024099</td>\n",
       "      <td>0.049427</td>\n",
       "      <td>0.49</td>\n",
       "    </tr>\n",
       "    <tr>\n",
       "      <th>21</th>\n",
       "      <td>Burger</td>\n",
       "      <td>0.002926</td>\n",
       "      <td>0.006596</td>\n",
       "      <td>0.44</td>\n",
       "    </tr>\n",
       "  </tbody>\n",
       "</table>\n",
       "</div>"
      ],
      "text/plain": [
       "    BRAND_NAME  targetSegment     other  affinityToBrand\n",
       "1     Tyrrells       0.031553  0.025692             1.23\n",
       "2     Twisties       0.046184  0.037877             1.22\n",
       "3      Doritos       0.122761  0.101075             1.21\n",
       "4       Kettle       0.197985  0.165553             1.20\n",
       "5     Tostitos       0.045411  0.037978             1.20\n",
       "6     Pringles       0.119420  0.100635             1.19\n",
       "7         Cobs       0.044638  0.039049             1.14\n",
       "8    Infuzions       0.064679  0.057065             1.13\n",
       "9        Thins       0.060373  0.056986             1.06\n",
       "10    GrnWaves       0.032712  0.031188             1.05\n",
       "11    Cheezels       0.017971  0.018647             0.96\n",
       "12      Smiths       0.089772  0.112215             0.80\n",
       "13      French       0.003948  0.005758             0.69\n",
       "14     Cheetos       0.008033  0.012067             0.67\n",
       "15         RRD       0.043810  0.067494             0.65\n",
       "16     Natural       0.019600  0.030854             0.64\n",
       "17         CCs       0.011180  0.018896             0.59\n",
       "18       Smith       0.006598  0.012368             0.53\n",
       "19    Sunbites       0.006349  0.012580             0.50\n",
       "20  Woolworths       0.024099  0.049427             0.49\n",
       "21      Burger       0.002926  0.006596             0.44"
      ]
     },
     "execution_count": 32,
     "metadata": {},
     "output_type": "execute_result"
    }
   ],
   "source": [
    "quantity_segment = segment1['PROD_QTY'].sum()\n",
    "quantity_other = other['PROD_QTY'].sum()\n",
    "\n",
    "quantity_segment1_by_brand = segment1.groupby('BRAND_NAME')[\"PROD_QTY\"].sum().reset_index(name='targetSegment') \n",
    "quantity_segment1_by_brand['targetSegment'] /= quantity_segment\n",
    "\n",
    "quantity_other_by_brand = other.groupby('BRAND_NAME')[\"PROD_QTY\"].sum().reset_index(name='other') \n",
    "quantity_other_by_brand['other'] /= quantity_other\n",
    "\n",
    "brand_proportions = pd.merge(quantity_segment1_by_brand, quantity_other_by_brand, on='BRAND_NAME')\n",
    "brand_proportions['affinityToBrand'] = (brand_proportions['targetSegment'] / brand_proportions['other']).round(2)\n",
    "\n",
    "\n",
    "brand_proportions = brand_proportions.sort_values(by='affinityToBrand', ascending=False).reset_index(drop=True)\n",
    "\n",
    "brand_proportions.index = pd.RangeIndex(start=1, stop=len(brand_proportions) + 1)\n",
    "brand_proportions"
   ]
  },
  {
   "cell_type": "markdown",
   "id": "10b394e6",
   "metadata": {},
   "source": [
    "We can see that :\n",
    "• Mainstream young singles/couples are 23% more likely to purchase Tyrrells chips compared to the\n",
    "rest of the population\n",
    "• Mainstream young singles/couples are 56% less likely to purchase Burger Rings compared to the rest\n",
    "of the population"
   ]
  },
  {
   "cell_type": "code",
   "execution_count": 33,
   "id": "fb56413c",
   "metadata": {},
   "outputs": [
    {
     "data": {
      "text/html": [
       "<div>\n",
       "<style scoped>\n",
       "    .dataframe tbody tr th:only-of-type {\n",
       "        vertical-align: middle;\n",
       "    }\n",
       "\n",
       "    .dataframe tbody tr th {\n",
       "        vertical-align: top;\n",
       "    }\n",
       "\n",
       "    .dataframe thead th {\n",
       "        text-align: right;\n",
       "    }\n",
       "</style>\n",
       "<table border=\"1\" class=\"dataframe\">\n",
       "  <thead>\n",
       "    <tr style=\"text-align: right;\">\n",
       "      <th></th>\n",
       "      <th>PACK_SIZE</th>\n",
       "      <th>targetSegment</th>\n",
       "      <th>other</th>\n",
       "      <th>affinityToBrand</th>\n",
       "    </tr>\n",
       "  </thead>\n",
       "  <tbody>\n",
       "    <tr>\n",
       "      <th>1</th>\n",
       "      <td>270</td>\n",
       "      <td>0.031829</td>\n",
       "      <td>0.025096</td>\n",
       "      <td>1.27</td>\n",
       "    </tr>\n",
       "    <tr>\n",
       "      <th>2</th>\n",
       "      <td>380</td>\n",
       "      <td>0.032160</td>\n",
       "      <td>0.025584</td>\n",
       "      <td>1.26</td>\n",
       "    </tr>\n",
       "    <tr>\n",
       "      <th>3</th>\n",
       "      <td>330</td>\n",
       "      <td>0.061284</td>\n",
       "      <td>0.050162</td>\n",
       "      <td>1.22</td>\n",
       "    </tr>\n",
       "    <tr>\n",
       "      <th>4</th>\n",
       "      <td>134</td>\n",
       "      <td>0.119420</td>\n",
       "      <td>0.100635</td>\n",
       "      <td>1.19</td>\n",
       "    </tr>\n",
       "    <tr>\n",
       "      <th>5</th>\n",
       "      <td>110</td>\n",
       "      <td>0.106280</td>\n",
       "      <td>0.089791</td>\n",
       "      <td>1.18</td>\n",
       "    </tr>\n",
       "    <tr>\n",
       "      <th>6</th>\n",
       "      <td>210</td>\n",
       "      <td>0.029124</td>\n",
       "      <td>0.025121</td>\n",
       "      <td>1.16</td>\n",
       "    </tr>\n",
       "    <tr>\n",
       "      <th>7</th>\n",
       "      <td>135</td>\n",
       "      <td>0.014769</td>\n",
       "      <td>0.013075</td>\n",
       "      <td>1.13</td>\n",
       "    </tr>\n",
       "    <tr>\n",
       "      <th>8</th>\n",
       "      <td>250</td>\n",
       "      <td>0.014355</td>\n",
       "      <td>0.012781</td>\n",
       "      <td>1.12</td>\n",
       "    </tr>\n",
       "    <tr>\n",
       "      <th>9</th>\n",
       "      <td>170</td>\n",
       "      <td>0.080773</td>\n",
       "      <td>0.080986</td>\n",
       "      <td>1.00</td>\n",
       "    </tr>\n",
       "    <tr>\n",
       "      <th>10</th>\n",
       "      <td>150</td>\n",
       "      <td>0.157598</td>\n",
       "      <td>0.163421</td>\n",
       "      <td>0.96</td>\n",
       "    </tr>\n",
       "    <tr>\n",
       "      <th>11</th>\n",
       "      <td>175</td>\n",
       "      <td>0.254990</td>\n",
       "      <td>0.270007</td>\n",
       "      <td>0.94</td>\n",
       "    </tr>\n",
       "    <tr>\n",
       "      <th>12</th>\n",
       "      <td>165</td>\n",
       "      <td>0.055652</td>\n",
       "      <td>0.062268</td>\n",
       "      <td>0.89</td>\n",
       "    </tr>\n",
       "    <tr>\n",
       "      <th>13</th>\n",
       "      <td>190</td>\n",
       "      <td>0.007481</td>\n",
       "      <td>0.012442</td>\n",
       "      <td>0.60</td>\n",
       "    </tr>\n",
       "    <tr>\n",
       "      <th>14</th>\n",
       "      <td>180</td>\n",
       "      <td>0.003589</td>\n",
       "      <td>0.006067</td>\n",
       "      <td>0.59</td>\n",
       "    </tr>\n",
       "    <tr>\n",
       "      <th>15</th>\n",
       "      <td>160</td>\n",
       "      <td>0.006404</td>\n",
       "      <td>0.012373</td>\n",
       "      <td>0.52</td>\n",
       "    </tr>\n",
       "    <tr>\n",
       "      <th>16</th>\n",
       "      <td>90</td>\n",
       "      <td>0.006349</td>\n",
       "      <td>0.012580</td>\n",
       "      <td>0.50</td>\n",
       "    </tr>\n",
       "    <tr>\n",
       "      <th>17</th>\n",
       "      <td>125</td>\n",
       "      <td>0.003009</td>\n",
       "      <td>0.006037</td>\n",
       "      <td>0.50</td>\n",
       "    </tr>\n",
       "    <tr>\n",
       "      <th>18</th>\n",
       "      <td>70</td>\n",
       "      <td>0.003037</td>\n",
       "      <td>0.006322</td>\n",
       "      <td>0.48</td>\n",
       "    </tr>\n",
       "    <tr>\n",
       "      <th>19</th>\n",
       "      <td>200</td>\n",
       "      <td>0.008972</td>\n",
       "      <td>0.018656</td>\n",
       "      <td>0.48</td>\n",
       "    </tr>\n",
       "    <tr>\n",
       "      <th>20</th>\n",
       "      <td>220</td>\n",
       "      <td>0.002926</td>\n",
       "      <td>0.006596</td>\n",
       "      <td>0.44</td>\n",
       "    </tr>\n",
       "  </tbody>\n",
       "</table>\n",
       "</div>"
      ],
      "text/plain": [
       "    PACK_SIZE  targetSegment     other  affinityToBrand\n",
       "1         270       0.031829  0.025096             1.27\n",
       "2         380       0.032160  0.025584             1.26\n",
       "3         330       0.061284  0.050162             1.22\n",
       "4         134       0.119420  0.100635             1.19\n",
       "5         110       0.106280  0.089791             1.18\n",
       "6         210       0.029124  0.025121             1.16\n",
       "7         135       0.014769  0.013075             1.13\n",
       "8         250       0.014355  0.012781             1.12\n",
       "9         170       0.080773  0.080986             1.00\n",
       "10        150       0.157598  0.163421             0.96\n",
       "11        175       0.254990  0.270007             0.94\n",
       "12        165       0.055652  0.062268             0.89\n",
       "13        190       0.007481  0.012442             0.60\n",
       "14        180       0.003589  0.006067             0.59\n",
       "15        160       0.006404  0.012373             0.52\n",
       "16         90       0.006349  0.012580             0.50\n",
       "17        125       0.003009  0.006037             0.50\n",
       "18         70       0.003037  0.006322             0.48\n",
       "19        200       0.008972  0.018656             0.48\n",
       "20        220       0.002926  0.006596             0.44"
      ]
     },
     "execution_count": 33,
     "metadata": {},
     "output_type": "execute_result"
    }
   ],
   "source": [
    "quantity_segment1_by_pack = segment1.groupby('PACK_SIZE')[\"PROD_QTY\"].sum().reset_index(name='targetSegment') \n",
    "quantity_segment1_by_pack['targetSegment'] /= quantity_segment\n",
    "\n",
    "quantity_other_by_pack = other.groupby('PACK_SIZE')[\"PROD_QTY\"].sum().reset_index(name='other') \n",
    "quantity_other_by_pack['other'] /= quantity_other\n",
    "\n",
    "pack_proportions = pd.merge(quantity_segment1_by_pack, quantity_other_by_pack, on='PACK_SIZE')\n",
    "pack_proportions['affinityToBrand'] = (pack_proportions['targetSegment'] / pack_proportions['other']).round(2)\n",
    "\n",
    "\n",
    "pack_proportions = pack_proportions.sort_values(by='affinityToBrand', ascending=False).reset_index(drop=True)\n",
    "\n",
    "pack_proportions.index = pd.RangeIndex(start=1, stop=len(pack_proportions) + 1)\n",
    "pack_proportions"
   ]
  },
  {
   "cell_type": "markdown",
   "id": "8d041f86",
   "metadata": {},
   "source": [
    "It looks like Mainstream young singles/couples are 27% more likely to purchase a 270g pack of chips compared to the rest of the population"
   ]
  },
  {
   "cell_type": "code",
   "execution_count": 34,
   "id": "e8ac07ac",
   "metadata": {},
   "outputs": [
    {
     "data": {
      "text/plain": [
       "array(['Twisties'], dtype=object)"
      ]
     },
     "execution_count": 34,
     "metadata": {},
     "output_type": "execute_result"
    }
   ],
   "source": [
    "data.loc[data['PACK_SIZE'] == 270][\"BRAND_NAME\"].unique()\n",
    "# Twisties are the only brand offering 270g packs and so this may instead be reflecting a higher likelihood of purchasing Twisties."
   ]
  },
  {
   "cell_type": "markdown",
   "id": "32dd6634",
   "metadata": {},
   "source": [
    "Sales have mainly been due to Budget - older families, Mainstream - young singles/couples, and Mainstream\n",
    "- retirees shoppers. We found that the high spend in chips for mainstream young singles/couples and retirees\n",
    "is due to there being more of them than other buyers. Mainstream, midage and young singles and\n",
    "couples are also more likely to pay more per packet of chips. This is indicative of impulse buying behaviour.\n",
    "We’ve also found that Mainstream young singles and couples are 23% more likely to purchase Tyrrells chips\n",
    "compared to the rest of the population. The Category Manager may want to increase the category’s performance\n",
    "by off-locating some Tyrrells and smaller packs of chips in discretionary space near segments\n",
    "where young singles and couples frequent more often to increase visibilty and impulse behaviour"
   ]
  }
 ],
 "metadata": {
  "kernelspec": {
   "display_name": "internship",
   "language": "python",
   "name": "python3"
  },
  "language_info": {
   "codemirror_mode": {
    "name": "ipython",
    "version": 3
   },
   "file_extension": ".py",
   "mimetype": "text/x-python",
   "name": "python",
   "nbconvert_exporter": "python",
   "pygments_lexer": "ipython3",
   "version": "3.12.6"
  }
 },
 "nbformat": 4,
 "nbformat_minor": 5
}
